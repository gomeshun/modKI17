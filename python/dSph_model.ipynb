{
 "cells": [
  {
   "cell_type": "code",
   "execution_count": 2,
   "metadata": {},
   "outputs": [],
   "source": [
    "from sympy import *\n",
    "init_printing()"
   ]
  },
  {
   "cell_type": "code",
   "execution_count": 3,
   "metadata": {},
   "outputs": [],
   "source": [
    "from plot_setup import *\n",
    "import model_definition as model\n",
    "import seaborn as sns\n",
    "#sns.set(style=\"ticks\",palette=\"tab10\")\n",
    "sns.set_style('whitegrid')\n",
    "sns.set_palette(\"tab10\",10)\n",
    "import matplotlib\n",
    "\n",
    "#args_pairplot = {\"size\":5,\"plot_kws\":{\"s\":8,\"marker\":\"o\"},\"diag_kws\":{\"bins\":32,\"histtype\":\"stepfilled\",\"alpha\":0.3}}\n",
    "args_pairplot = {\"plot_kws\":{\"s\":8,\"marker\":\"o\"},\"diag_kws\":{\"bins\":32,\"histtype\":\"stepfilled\",\"alpha\":0.3}}\n",
    "\n",
    "def mypairplot(\n",
    "    mcchain,\n",
    "    scatter_kws={\"s\":1,\"marker\":\"o\",\"alpha\":0.1},\n",
    "    kde_kws={\"shade\":True,\"shade_lowest\":False,\"cmap\":\"jet\"},\n",
    "    hist_kws={\"bins\":32,\"histtype\":\"stepfilled\",\"alpha\":0.3},\n",
    "    **kws):\n",
    "    \n",
    "    print(\"Note: The following warnings occur, but no problem.\\nUserWarning: The following kwargs were not used by contour: 'label', 'color' \")\n",
    "    g = sns.PairGrid(mcchain,**kws)\n",
    "    g = g.map_upper(plt.scatter,**scatter_kws)\n",
    "    g = g.map_lower(sns.kdeplot,**kde_kws)\n",
    "    g = g.map_diag(plt.hist, **hist_kws)\n",
    "    return g"
   ]
  },
  {
   "cell_type": "code",
   "execution_count": 7,
   "metadata": {},
   "outputs": [],
   "source": [
    "r = symbols(\"r\",positive=True)\n",
    "R = symbols(\"R\",positive=True)\n",
    "v = symbols(\"v\")\n",
    "r_e= symbols(r\"r_e\",positive=True)\n",
    "R_RoI = symbols(r\"R_\\text{RoI}\",positive=True)"
   ]
  },
  {
   "cell_type": "code",
   "execution_count": 17,
   "metadata": {},
   "outputs": [
    {
     "data": {
      "image/png": "[encoded data removed]",
      "text/latex": [
       "$$\\frac{1}{\\pi r_{e}^{2} \\left(\\frac{R^{2}}{r_{e}^{2}} + 1\\right)^{2}}$$"
      ],
      "text/plain": [
       "       1        \n",
       "────────────────\n",
       "               2\n",
       "      ⎛  2    ⎞ \n",
       "    2 ⎜ R     ⎟ \n",
       "π⋅rₑ ⋅⎜─── + 1⎟ \n",
       "      ⎜  2    ⎟ \n",
       "      ⎝rₑ     ⎠ "
      ]
     },
     "metadata": {},
     "output_type": "display_data"
    }
   ],
   "source": [
    "# definition of plummer model\n",
    "plummer_2d = (1/pi/r_e**2)*(1+(R/r_e)**2)**(-2)\n",
    "plummer_3d = (Rational(3,4)/pi/r_e**3)*(1+(r/r_e)**2)**(-Rational(5,2))\n",
    "display(plummer_2d)"
   ]
  },
  {
   "cell_type": "markdown",
   "metadata": {},
   "source": [
    "# Inverse transform sampling of Plummer distribution\n",
    "If you have pdf $p(x)$, translate it to cdf $U(x) = \\int_0^x dx' p(x')$. Then,\n",
    "\n",
    "$x = U^{-1}(u)$ is the samples whose distribution is p(x) where $u \\sim U(0,1)$ (uniform distribution) "
   ]
  },
  {
   "cell_type": "code",
   "execution_count": 9,
   "metadata": {},
   "outputs": [
    {
     "data": {
      "image/png": "[encoded data removed]",
      "text/latex": [
       "$$\\frac{R^{2}}{R^{2} + r_{e}^{2}}$$"
      ],
      "text/plain": [
       "    2   \n",
       "   R    \n",
       "────────\n",
       " 2     2\n",
       "R  + rₑ "
      ]
     },
     "metadata": {},
     "output_type": "display_data"
    },
    {
     "data": {
      "image/png": "[encoded data removed]",
      "text/latex": [
       "$$\\frac{R^{2}}{R^{2} + r_{e}^{2}} \\leq 1$$"
      ],
      "text/plain": [
       "    2       \n",
       "   R        \n",
       "──────── ≤ 1\n",
       " 2     2    \n",
       "R  + rₑ     "
      ]
     },
     "execution_count": 9,
     "metadata": {},
     "output_type": "execute_result"
    }
   ],
   "source": [
    "# U(x) for Plummer \n",
    "R1 = symbols(r\"R'\",positive=True)\n",
    "Sigma = plummer_2d.subs(R,R1)\n",
    "cdf = simplify(integrate(2*pi*R1*Sigma,(R1,0,R)))\n",
    "# cdf : cummulated probability\n",
    "display(cdf)\n",
    "refine(cdf<=1,Q.positive(1-cdf))"
   ]
  },
  {
   "cell_type": "code",
   "execution_count": 10,
   "metadata": {},
   "outputs": [
    {
     "data": {
      "image/png": "[encoded data removed]",
      "text/latex": [
       "$$u \\leq 1$$"
      ],
      "text/plain": [
       "u ≤ 1"
      ]
     },
     "metadata": {},
     "output_type": "display_data"
    },
    {
     "data": {
      "image/png": "[encoded data removed]",
      "text/latex": [
       "$$\\left [ - r_{e} \\sqrt{u} \\sqrt{- \\frac{1}{u - 1}}, \\quad r_{e} \\sqrt{u} \\sqrt{- \\frac{1}{u - 1}}\\right ]$$"
      ],
      "text/plain": [
       "⎡           _______            _______⎤\n",
       "⎢          ╱  -1              ╱  -1   ⎥\n",
       "⎢-rₑ⋅√u⋅  ╱  ───── , rₑ⋅√u⋅  ╱  ───── ⎥\n",
       "⎣       ╲╱   u - 1         ╲╱   u - 1 ⎦"
      ]
     },
     "metadata": {},
     "output_type": "display_data"
    }
   ],
   "source": [
    "# U^{-1}(u) for Plummer \n",
    "\n",
    "u = symbols(\"u\",positive = True)\n",
    "assumptions.refine(u,Q.positive(1-u))\n",
    "# solve(expr,var) : solve expr = 0 for var\n",
    "inv_cdfs = solve(cdf-u, R)\n",
    "display(u<=1)\n",
    "display(inv_cdfs)"
   ]
  },
  {
   "cell_type": "code",
   "execution_count": 11,
   "metadata": {},
   "outputs": [
    {
     "data": {
      "image/png": "[encoded data removed]",
      "text/latex": [
       "$$r_{e} \\sqrt{u} \\sqrt{- \\frac{1}{u - 1}}$$"
      ],
      "text/plain": [
       "          _______\n",
       "         ╱  -1   \n",
       "rₑ⋅√u⋅  ╱  ───── \n",
       "      ╲╱   u - 1 "
      ]
     },
     "execution_count": 11,
     "metadata": {},
     "output_type": "execute_result"
    }
   ],
   "source": [
    "inv_cdf = inv_cdfs[1]\n",
    "inv_cdf"
   ]
  },
  {
   "cell_type": "code",
   "execution_count": 12,
   "metadata": {},
   "outputs": [],
   "source": [
    "# Member parameter and functions\n",
    "r_e_obs = 100\n",
    "v_mem = 50\n",
    "sigma_los = lambda R: 10+10*(R/r_e_obs)\n",
    "_generate_plummer_R_from_u = lambdify(u,inv_cdf.subs(r_e,r_e_obs),\"numpy\")\n",
    "generate_plummer_R = lambda n: _generate_plummer_R_from_u(np.random.rand(n))"
   ]
  },
  {
   "cell_type": "code",
   "execution_count": 18,
   "metadata": {},
   "outputs": [
    {
     "name": "stdout",
     "output_type": "stream",
     "text": [
      "Note: The following warnings occur, but no problem.\n",
      "UserWarning: The following kwargs were not used by contour: 'label', 'color' \n"
     ]
    },
    {
     "name": "stderr",
     "output_type": "stream",
     "text": [
      "/home/gomesu/.pyenv/versions/anaconda3-5.2.0/lib/python3.6/site-packages/matplotlib/contour.py:960: UserWarning: The following kwargs were not used by contour: 'label', 'color'\n",
      "  s)\n"
     ]
    },
    {
     "data": {
      "text/plain": [
       "<seaborn.axisgrid.PairGrid at 0x7f63a43f66a0>"
      ]
     },
     "execution_count": 18,
     "metadata": {},
     "output_type": "execute_result"
    },
    {
     "data": {
      "image/png": "[encoded data removed]",
      "text/plain": [
       "<Figure size 360x360 with 6 Axes>"
      ]
     },
     "metadata": {},
     "output_type": "display_data"
    }
   ],
   "source": [
    "# create mock here\n",
    "n_sample = 1000000\n",
    "plummer_vRs = pd.DataFrame()\n",
    "plummer_vRs[\"R\"] = generate_plummer_R(n_sample)\n",
    "plummer_vRs[\"v\"] = np.random.normal(loc=v_mem,scale=sigma_los(plummer_vRs[\"R\"]))\n",
    "isin_RoI = lambda df: (df.R<200).values * (df.v<100).values * (0<df.v).values\n",
    "#isin_RoI(plummer_vRs)\n",
    "plummer_vRs_in_RoI = plummer_vRs[isin_RoI(plummer_vRs)]\n",
    "#display(plummer_vRs_in_RoI)\n",
    "mypairplot(plummer_vRs_in_RoI[::100])"
   ]
  },
  {
   "cell_type": "code",
   "execution_count": 228,
   "metadata": {},
   "outputs": [],
   "source": [
    "# Foreground parameter and functions\n",
    "v_fg = 200\n",
    "dv_fg = 200\n",
    "RoI_R_obs = 200\n",
    "#_generate_uniform_R_from_u = lambdify(u,inv_cdf.subs(r_e,r_e_obs),\"numpy\")\n",
    "generate_uniform_R = lambda n: np.random.triangular(size=n_sample,left=0,mode=RoI_R_obs,right=RoI_R_obs)"
   ]
  },
  {
   "cell_type": "code",
   "execution_count": 238,
   "metadata": {},
   "outputs": [
    {
     "data": {
      "text/html": [
       "<div>\n",
       "<style scoped>\n",
       "    .dataframe tbody tr th:only-of-type {\n",
       "        vertical-align: middle;\n",
       "    }\n",
       "\n",
       "    .dataframe tbody tr th {\n",
       "        vertical-align: top;\n",
       "    }\n",
       "\n",
       "    .dataframe thead th {\n",
       "        text-align: right;\n",
       "    }\n",
       "</style>\n",
       "<table border=\"1\" class=\"dataframe\">\n",
       "  <thead>\n",
       "    <tr style=\"text-align: right;\">\n",
       "      <th></th>\n",
       "      <th>R</th>\n",
       "      <th>v</th>\n",
       "    </tr>\n",
       "  </thead>\n",
       "  <tbody>\n",
       "    <tr>\n",
       "      <th>3</th>\n",
       "      <td>65.017657</td>\n",
       "      <td>65.060400</td>\n",
       "    </tr>\n",
       "    <tr>\n",
       "      <th>24</th>\n",
       "      <td>87.025471</td>\n",
       "      <td>42.592599</td>\n",
       "    </tr>\n",
       "    <tr>\n",
       "      <th>76</th>\n",
       "      <td>74.813912</td>\n",
       "      <td>70.321889</td>\n",
       "    </tr>\n",
       "    <tr>\n",
       "      <th>90</th>\n",
       "      <td>52.617250</td>\n",
       "      <td>2.683799</td>\n",
       "    </tr>\n",
       "    <tr>\n",
       "      <th>137</th>\n",
       "      <td>97.477318</td>\n",
       "      <td>96.216461</td>\n",
       "    </tr>\n",
       "    <tr>\n",
       "      <th>187</th>\n",
       "      <td>97.361491</td>\n",
       "      <td>82.391917</td>\n",
       "    </tr>\n",
       "    <tr>\n",
       "      <th>195</th>\n",
       "      <td>58.923347</td>\n",
       "      <td>87.991784</td>\n",
       "    </tr>\n",
       "    <tr>\n",
       "      <th>239</th>\n",
       "      <td>39.154605</td>\n",
       "      <td>79.708519</td>\n",
       "    </tr>\n",
       "    <tr>\n",
       "      <th>307</th>\n",
       "      <td>76.251312</td>\n",
       "      <td>10.072256</td>\n",
       "    </tr>\n",
       "    <tr>\n",
       "      <th>311</th>\n",
       "      <td>82.864194</td>\n",
       "      <td>46.199477</td>\n",
       "    </tr>\n",
       "    <tr>\n",
       "      <th>360</th>\n",
       "      <td>96.202659</td>\n",
       "      <td>5.044966</td>\n",
       "    </tr>\n",
       "    <tr>\n",
       "      <th>393</th>\n",
       "      <td>68.572983</td>\n",
       "      <td>90.516828</td>\n",
       "    </tr>\n",
       "    <tr>\n",
       "      <th>394</th>\n",
       "      <td>84.432939</td>\n",
       "      <td>33.881032</td>\n",
       "    </tr>\n",
       "    <tr>\n",
       "      <th>423</th>\n",
       "      <td>5.265175</td>\n",
       "      <td>9.005401</td>\n",
       "    </tr>\n",
       "    <tr>\n",
       "      <th>429</th>\n",
       "      <td>98.727359</td>\n",
       "      <td>71.881406</td>\n",
       "    </tr>\n",
       "    <tr>\n",
       "      <th>458</th>\n",
       "      <td>82.881504</td>\n",
       "      <td>34.079907</td>\n",
       "    </tr>\n",
       "    <tr>\n",
       "      <th>497</th>\n",
       "      <td>64.205159</td>\n",
       "      <td>56.158975</td>\n",
       "    </tr>\n",
       "    <tr>\n",
       "      <th>554</th>\n",
       "      <td>82.180456</td>\n",
       "      <td>58.561564</td>\n",
       "    </tr>\n",
       "    <tr>\n",
       "      <th>559</th>\n",
       "      <td>71.249321</td>\n",
       "      <td>42.913685</td>\n",
       "    </tr>\n",
       "    <tr>\n",
       "      <th>627</th>\n",
       "      <td>52.657986</td>\n",
       "      <td>56.282904</td>\n",
       "    </tr>\n",
       "    <tr>\n",
       "      <th>662</th>\n",
       "      <td>97.919708</td>\n",
       "      <td>0.414155</td>\n",
       "    </tr>\n",
       "    <tr>\n",
       "      <th>748</th>\n",
       "      <td>75.039282</td>\n",
       "      <td>20.057633</td>\n",
       "    </tr>\n",
       "    <tr>\n",
       "      <th>774</th>\n",
       "      <td>39.027144</td>\n",
       "      <td>78.395664</td>\n",
       "    </tr>\n",
       "    <tr>\n",
       "      <th>822</th>\n",
       "      <td>99.866858</td>\n",
       "      <td>35.265323</td>\n",
       "    </tr>\n",
       "    <tr>\n",
       "      <th>852</th>\n",
       "      <td>98.127943</td>\n",
       "      <td>18.201225</td>\n",
       "    </tr>\n",
       "    <tr>\n",
       "      <th>884</th>\n",
       "      <td>77.910326</td>\n",
       "      <td>24.213966</td>\n",
       "    </tr>\n",
       "    <tr>\n",
       "      <th>921</th>\n",
       "      <td>86.414983</td>\n",
       "      <td>69.624631</td>\n",
       "    </tr>\n",
       "    <tr>\n",
       "      <th>992</th>\n",
       "      <td>50.232946</td>\n",
       "      <td>92.322093</td>\n",
       "    </tr>\n",
       "    <tr>\n",
       "      <th>1042</th>\n",
       "      <td>58.652676</td>\n",
       "      <td>20.997911</td>\n",
       "    </tr>\n",
       "    <tr>\n",
       "      <th>1104</th>\n",
       "      <td>49.854543</td>\n",
       "      <td>58.935043</td>\n",
       "    </tr>\n",
       "    <tr>\n",
       "      <th>...</th>\n",
       "      <td>...</td>\n",
       "      <td>...</td>\n",
       "    </tr>\n",
       "    <tr>\n",
       "      <th>999122</th>\n",
       "      <td>60.631294</td>\n",
       "      <td>18.525710</td>\n",
       "    </tr>\n",
       "    <tr>\n",
       "      <th>999136</th>\n",
       "      <td>52.101642</td>\n",
       "      <td>43.863109</td>\n",
       "    </tr>\n",
       "    <tr>\n",
       "      <th>999155</th>\n",
       "      <td>48.705750</td>\n",
       "      <td>39.989558</td>\n",
       "    </tr>\n",
       "    <tr>\n",
       "      <th>999181</th>\n",
       "      <td>48.321928</td>\n",
       "      <td>79.035866</td>\n",
       "    </tr>\n",
       "    <tr>\n",
       "      <th>999187</th>\n",
       "      <td>71.858217</td>\n",
       "      <td>88.783168</td>\n",
       "    </tr>\n",
       "    <tr>\n",
       "      <th>999225</th>\n",
       "      <td>99.629939</td>\n",
       "      <td>65.237273</td>\n",
       "    </tr>\n",
       "    <tr>\n",
       "      <th>999273</th>\n",
       "      <td>88.988839</td>\n",
       "      <td>85.100307</td>\n",
       "    </tr>\n",
       "    <tr>\n",
       "      <th>999332</th>\n",
       "      <td>53.497902</td>\n",
       "      <td>72.805559</td>\n",
       "    </tr>\n",
       "    <tr>\n",
       "      <th>999436</th>\n",
       "      <td>57.794174</td>\n",
       "      <td>35.347475</td>\n",
       "    </tr>\n",
       "    <tr>\n",
       "      <th>999441</th>\n",
       "      <td>88.940444</td>\n",
       "      <td>86.658553</td>\n",
       "    </tr>\n",
       "    <tr>\n",
       "      <th>999455</th>\n",
       "      <td>72.353142</td>\n",
       "      <td>67.652044</td>\n",
       "    </tr>\n",
       "    <tr>\n",
       "      <th>999459</th>\n",
       "      <td>75.060482</td>\n",
       "      <td>79.553266</td>\n",
       "    </tr>\n",
       "    <tr>\n",
       "      <th>999461</th>\n",
       "      <td>81.369745</td>\n",
       "      <td>43.652604</td>\n",
       "    </tr>\n",
       "    <tr>\n",
       "      <th>999478</th>\n",
       "      <td>25.237322</td>\n",
       "      <td>48.822968</td>\n",
       "    </tr>\n",
       "    <tr>\n",
       "      <th>999538</th>\n",
       "      <td>43.957868</td>\n",
       "      <td>21.541121</td>\n",
       "    </tr>\n",
       "    <tr>\n",
       "      <th>999583</th>\n",
       "      <td>93.987573</td>\n",
       "      <td>84.381706</td>\n",
       "    </tr>\n",
       "    <tr>\n",
       "      <th>999597</th>\n",
       "      <td>13.118074</td>\n",
       "      <td>47.279691</td>\n",
       "    </tr>\n",
       "    <tr>\n",
       "      <th>999618</th>\n",
       "      <td>84.048409</td>\n",
       "      <td>53.664606</td>\n",
       "    </tr>\n",
       "    <tr>\n",
       "      <th>999638</th>\n",
       "      <td>82.131447</td>\n",
       "      <td>0.493514</td>\n",
       "    </tr>\n",
       "    <tr>\n",
       "      <th>999653</th>\n",
       "      <td>66.895341</td>\n",
       "      <td>96.639630</td>\n",
       "    </tr>\n",
       "    <tr>\n",
       "      <th>999701</th>\n",
       "      <td>56.484019</td>\n",
       "      <td>68.236791</td>\n",
       "    </tr>\n",
       "    <tr>\n",
       "      <th>999703</th>\n",
       "      <td>75.717128</td>\n",
       "      <td>26.062983</td>\n",
       "    </tr>\n",
       "    <tr>\n",
       "      <th>999713</th>\n",
       "      <td>44.921312</td>\n",
       "      <td>96.363182</td>\n",
       "    </tr>\n",
       "    <tr>\n",
       "      <th>999732</th>\n",
       "      <td>49.381229</td>\n",
       "      <td>56.336589</td>\n",
       "    </tr>\n",
       "    <tr>\n",
       "      <th>999766</th>\n",
       "      <td>19.618902</td>\n",
       "      <td>44.010548</td>\n",
       "    </tr>\n",
       "    <tr>\n",
       "      <th>999837</th>\n",
       "      <td>93.445066</td>\n",
       "      <td>99.304090</td>\n",
       "    </tr>\n",
       "    <tr>\n",
       "      <th>999857</th>\n",
       "      <td>95.581917</td>\n",
       "      <td>25.238318</td>\n",
       "    </tr>\n",
       "    <tr>\n",
       "      <th>999904</th>\n",
       "      <td>68.980822</td>\n",
       "      <td>82.891144</td>\n",
       "    </tr>\n",
       "    <tr>\n",
       "      <th>999913</th>\n",
       "      <td>86.403091</td>\n",
       "      <td>52.505621</td>\n",
       "    </tr>\n",
       "    <tr>\n",
       "      <th>999970</th>\n",
       "      <td>94.454673</td>\n",
       "      <td>91.112979</td>\n",
       "    </tr>\n",
       "  </tbody>\n",
       "</table>\n",
       "<p>37482 rows × 2 columns</p>\n",
       "</div>"
      ],
      "text/plain": [
       "                R          v\n",
       "3       65.017657  65.060400\n",
       "24      87.025471  42.592599\n",
       "76      74.813912  70.321889\n",
       "90      52.617250   2.683799\n",
       "137     97.477318  96.216461\n",
       "187     97.361491  82.391917\n",
       "195     58.923347  87.991784\n",
       "239     39.154605  79.708519\n",
       "307     76.251312  10.072256\n",
       "311     82.864194  46.199477\n",
       "360     96.202659   5.044966\n",
       "393     68.572983  90.516828\n",
       "394     84.432939  33.881032\n",
       "423      5.265175   9.005401\n",
       "429     98.727359  71.881406\n",
       "458     82.881504  34.079907\n",
       "497     64.205159  56.158975\n",
       "554     82.180456  58.561564\n",
       "559     71.249321  42.913685\n",
       "627     52.657986  56.282904\n",
       "662     97.919708   0.414155\n",
       "748     75.039282  20.057633\n",
       "774     39.027144  78.395664\n",
       "822     99.866858  35.265323\n",
       "852     98.127943  18.201225\n",
       "884     77.910326  24.213966\n",
       "921     86.414983  69.624631\n",
       "992     50.232946  92.322093\n",
       "1042    58.652676  20.997911\n",
       "1104    49.854543  58.935043\n",
       "...           ...        ...\n",
       "999122  60.631294  18.525710\n",
       "999136  52.101642  43.863109\n",
       "999155  48.705750  39.989558\n",
       "999181  48.321928  79.035866\n",
       "999187  71.858217  88.783168\n",
       "999225  99.629939  65.237273\n",
       "999273  88.988839  85.100307\n",
       "999332  53.497902  72.805559\n",
       "999436  57.794174  35.347475\n",
       "999441  88.940444  86.658553\n",
       "999455  72.353142  67.652044\n",
       "999459  75.060482  79.553266\n",
       "999461  81.369745  43.652604\n",
       "999478  25.237322  48.822968\n",
       "999538  43.957868  21.541121\n",
       "999583  93.987573  84.381706\n",
       "999597  13.118074  47.279691\n",
       "999618  84.048409  53.664606\n",
       "999638  82.131447   0.493514\n",
       "999653  66.895341  96.639630\n",
       "999701  56.484019  68.236791\n",
       "999703  75.717128  26.062983\n",
       "999713  44.921312  96.363182\n",
       "999732  49.381229  56.336589\n",
       "999766  19.618902  44.010548\n",
       "999837  93.445066  99.304090\n",
       "999857  95.581917  25.238318\n",
       "999904  68.980822  82.891144\n",
       "999913  86.403091  52.505621\n",
       "999970  94.454673  91.112979\n",
       "\n",
       "[37482 rows x 2 columns]"
      ]
     },
     "metadata": {},
     "output_type": "display_data"
    }
   ],
   "source": [
    "# create mock here\n",
    "n_sample = 1000000\n",
    "uniform_vRs = pd.DataFrame()\n",
    "uniform_vRs[\"R\"] = generate_uniform_R(n_sample)\n",
    "uniform_vRs[\"v\"] = np.random.normal(size=n_sample,loc=v_fg,scale=dv_fg)\n",
    "isin_RoI = lambda df: (df.R<100).values * (df.v<100).values * (0<df.v).values\n",
    "#isin_RoI(plummer_vRs)\n",
    "uniform_vRs_in_RoI = uniform_vRs[isin_RoI(uniform_vRs)]\n",
    "display(uniform_vRs_in_RoI)\n",
    "#mypairplot(uniform_vRs_in_RoI)\n",
    "#uniform_vRs.to_csv(\"mock_fg_\"+specify_name+\".csv\")"
   ]
  },
  {
   "cell_type": "code",
   "execution_count": 239,
   "metadata": {},
   "outputs": [],
   "source": [
    "# output the files\n",
    "specify_name = \"noMCMC1milion_v001\"\n",
    "plummer_vRs.to_csv(\"mock_mem_\"+specify_name+\".csv\")\n",
    "uniform_vRs.to_csv(\"mock_fg_\"+specify_name+\".csv\")"
   ]
  },
  {
   "cell_type": "code",
   "execution_count": null,
   "metadata": {},
   "outputs": [],
   "source": []
  }
 ],
 "metadata": {
  "kernelspec": {
   "display_name": "Python 3",
   "language": "python",
   "name": "python3"
  },
  "language_info": {
   "codemirror_mode": {
    "name": "ipython",
    "version": 3
   },
   "file_extension": ".py",
   "mimetype": "text/x-python",
   "name": "python",
   "nbconvert_exporter": "python",
   "pygments_lexer": "ipython3",
   "version": "3.6.5"
  }
 },
 "nbformat": 4,
 "nbformat_minor": 2
}
