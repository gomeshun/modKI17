{
 "cells": [
  {
   "cell_type": "code",
   "execution_count": 1,
   "metadata": {},
   "outputs": [],
   "source": [
    "% matplotlib inline\n",
    "from plot_setup import *\n",
    "import model_definition as model\n",
    "import seaborn as sns\n",
    "#sns.set(style=\"ticks\",palette=\"tab10\")\n",
    "sns.set_style('whitegrid')\n",
    "sns.set_palette(\"tab10\",10)\n",
    "import matplotlib\n",
    "\n",
    "#args_pairplot = {\"size\":5,\"plot_kws\":{\"s\":8,\"marker\":\"o\"},\"diag_kws\":{\"bins\":32,\"histtype\":\"stepfilled\",\"alpha\":0.3}}\n",
    "args_pairplot = {\"plot_kws\":{\"s\":8,\"marker\":\"o\"},\"diag_kws\":{\"bins\":32,\"histtype\":\"stepfilled\",\"alpha\":0.3}}\n",
    "\n",
    "def mypairplot(\n",
    "    mcchain,\n",
    "    scatter_kws={\"s\":1,\"marker\":\"o\",\"alpha\":0.1},\n",
    "    kde_kws={\"shade\":True,\"shade_lowest\":False,\"cmap\":\"jet\"},\n",
    "    hist_kws={\"bins\":32,\"histtype\":\"stepfilled\",\"alpha\":0.3},\n",
    "    **kws):\n",
    "    \n",
    "    print(\"Note: The following warnings occur, but no problem.\\nUserWarning: The following kwargs were not used by contour: 'label', 'color' \")\n",
    "    g = sns.PairGrid(mcchain,**kws)\n",
    "    g = g.map_upper(plt.scatter,**scatter_kws)\n",
    "    g = g.map_lower(sns.kdeplot,**kde_kws)\n",
    "    g = g.map_diag(plt.hist, **hist_kws)\n",
    "    return g"
   ]
  },
  {
   "cell_type": "code",
   "execution_count": null,
   "metadata": {},
   "outputs": [],
   "source": [
    "import create_mock"
   ]
  }
 ],
 "metadata": {
  "kernelspec": {
   "display_name": "Python 3",
   "language": "python",
   "name": "python3"
  },
  "language_info": {
   "codemirror_mode": {
    "name": "ipython",
    "version": 3
   },
   "file_extension": ".py",
   "mimetype": "text/x-python",
   "name": "python",
   "nbconvert_exporter": "python",
   "pygments_lexer": "ipython3",
   "version": "3.6.5"
  }
 },
 "nbformat": 4,
 "nbformat_minor": 2
}
