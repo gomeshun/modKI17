{
 "cells": [
  {
   "cell_type": "code",
   "execution_count": 15,
   "metadata": {},
   "outputs": [],
   "source": [
    "from sympy import * \n",
    "init_printing()"
   ]
  },
  {
   "cell_type": "code",
   "execution_count": 16,
   "metadata": {
    "scrolled": true
   },
   "outputs": [
    {
     "data": {
      "image/png": "[encoded data removed]",
      "text/latex": [
       "$$\\frac{1}{\\pi r_{e}^{2} \\left(\\frac{R^{2}}{r_{e}^{2}} + 1\\right)^{2}}$$"
      ],
      "text/plain": [
       "       1        \n",
       "────────────────\n",
       "               2\n",
       "      ⎛  2    ⎞ \n",
       "    2 ⎜ R     ⎟ \n",
       "π⋅rₑ ⋅⎜─── + 1⎟ \n",
       "      ⎜  2    ⎟ \n",
       "      ⎝rₑ     ⎠ "
      ]
     },
     "execution_count": 16,
     "metadata": {},
     "output_type": "execute_result"
    }
   ],
   "source": [
    "R = Symbol(\"R\",positive=True)\n",
    "re = Symbol(\"r_e\",positive=True)\n",
    "plummer2d = (1/pi/re**2)/(1+(R/re)**2)**2\n",
    "plummer2d"
   ]
  },
  {
   "cell_type": "code",
   "execution_count": 17,
   "metadata": {},
   "outputs": [
    {
     "data": {
      "image/png": "[encoded data removed]",
      "text/latex": [
       "$$\\frac{R^{2}}{R^{2} + r_{e}^{2}}$$"
      ],
      "text/plain": [
       "    2   \n",
       "   R    \n",
       "────────\n",
       " 2     2\n",
       "R  + rₑ "
      ]
     },
     "execution_count": 17,
     "metadata": {},
     "output_type": "execute_result"
    }
   ],
   "source": [
    "cdf_plummer = integrate(2*pi*R*plummer2d,(R,0,R))\n",
    "simplify(cdf_plummer)"
   ]
  },
  {
   "cell_type": "code",
   "execution_count": 5,
   "metadata": {},
   "outputs": [
    {
     "data": {
      "image/png": "[encoded data removed]",
      "text/latex": [
       "$$\\left [ r_{e}\\right ]$$"
      ],
      "text/plain": [
       "[rₑ]"
      ]
     },
     "execution_count": 5,
     "metadata": {},
     "output_type": "execute_result"
    }
   ],
   "source": [
    "solve(cdf_plummer-1/2,R)"
   ]
  },
  {
   "cell_type": "code",
   "execution_count": 23,
   "metadata": {},
   "outputs": [
    {
     "data": {
      "image/png": "[encoded data removed]",
      "text/latex": [
       "$$0.964803020991219$$"
      ],
      "text/plain": [
       "0.964803020991219"
      ]
     },
     "execution_count": 23,
     "metadata": {},
     "output_type": "execute_result"
    }
   ],
   "source": [
    "cdf_plummer.subs(((re,191.),(R,1000)))"
   ]
  },
  {
   "cell_type": "code",
   "execution_count": 22,
   "metadata": {},
   "outputs": [
    {
     "data": {
      "image/png": "[encoded data removed]",
      "text/latex": [
       "$$\\left [ 3.51188458428425 r_{e}\\right ]$$"
      ],
      "text/plain": [
       "[3.51188458428425⋅rₑ]"
      ]
     },
     "execution_count": 22,
     "metadata": {},
     "output_type": "execute_result"
    }
   ],
   "source": [
    "Xpercent_enclosure_raduis = solve(cdf_plummer-(0.925),R)\n",
    "Xpercent_enclosure_raduis"
   ]
  },
  {
   "cell_type": "code",
   "execution_count": 23,
   "metadata": {},
   "outputs": [
    {
     "data": {
      "image/png": "[encoded data removed]",
      "text/latex": [
       "$$670.769955598291$$"
      ],
      "text/plain": [
       "670.769955598291"
      ]
     },
     "execution_count": 23,
     "metadata": {},
     "output_type": "execute_result"
    }
   ],
   "source": [
    "Xpercent_enclosure_raduis[0].subs(re,191)"
   ]
  },
  {
   "cell_type": "code",
   "execution_count": 9,
   "metadata": {},
   "outputs": [
    {
     "data": {
      "text/latex": [
       "$$\\int_{z_{0}}^{\\infty} {{}_{2}F_{1}\\left(\\begin{matrix} \\alpha, \\beta \\\\ \\gamma \\end{matrix}\\middle| {z} \\right)}\\, dz$$"
      ],
      "text/plain": [
       "∞                             \n",
       "⌠                             \n",
       "⎮   ┌─  ⎛\\alpha, \\beta │  ⎞   \n",
       "⎮   ├─  ⎜              │ z⎟ dz\n",
       "⎮  2╵ 1 ⎝    \\gamma    │  ⎠   \n",
       "⌡                             \n",
       "z₀                            "
      ]
     },
     "execution_count": 9,
     "metadata": {},
     "output_type": "execute_result"
    }
   ],
   "source": [
    "a,b,g,z,z0 = symbols(r\"\\alpha \\beta \\gamma z z_0\")\n",
    "simplify(integrate(hyper([a,b],[g],z),[z,z0,oo]))"
   ]
  },
  {
   "cell_type": "code",
   "execution_count": 28,
   "metadata": {},
   "outputs": [
    {
     "data": {
      "image/png": "[encoded data removed]",
      "text/latex": [
       "$$1.8755711004828286$$"
      ],
      "text/plain": [
       "1.8755711004828286"
      ]
     },
     "execution_count": 28,
     "metadata": {},
     "output_type": "execute_result"
    }
   ],
   "source": [
    "rplummer2d = 2*pi*R*plummer2d\n",
    "float(rplummer2d.subs(R,re)/rplummer2d.subs(R,re*sqrt(1+sqrt(2))))"
   ]
  },
  {
   "cell_type": "code",
   "execution_count": 27,
   "metadata": {},
   "outputs": [
    {
     "data": {
      "image/png": "[encoded data removed]",
      "text/latex": [
       "$$1.5537739740300374$$"
      ],
      "text/plain": [
       "1.5537739740300374"
      ]
     },
     "execution_count": 27,
     "metadata": {},
     "output_type": "execute_result"
    }
   ],
   "source": [
    "float(sqrt(1+sqrt(2)))"
   ]
  },
  {
   "cell_type": "code",
   "execution_count": 33,
   "metadata": {},
   "outputs": [
    {
     "data": {
      "image/png": "[encoded data removed]",
      "text/plain": [
       "<Figure size 432x288 with 1 Axes>"
      ]
     },
     "metadata": {},
     "output_type": "display_data"
    },
    {
     "data": {
      "image/png": "[encoded data removed]",
      "text/plain": [
       "<Figure size 432x288 with 1 Axes>"
      ]
     },
     "metadata": {},
     "output_type": "display_data"
    },
    {
     "data": {
      "text/plain": [
       "<sympy.plotting.plot.Plot at 0x7fe8344b0588>"
      ]
     },
     "execution_count": 33,
     "metadata": {},
     "output_type": "execute_result"
    }
   ],
   "source": [
    "plot(rplummer2d.subs(re,100),(R,0,100*2))\n",
    "plot(2*pi*R*0.0001,(R,0,100*2))"
   ]
  },
  {
   "cell_type": "code",
   "execution_count": null,
   "metadata": {},
   "outputs": [],
   "source": []
  }
 ],
 "metadata": {
  "kernelspec": {
   "display_name": "Python 3",
   "language": "python",
   "name": "python3"
  },
  "language_info": {
   "codemirror_mode": {
    "name": "ipython",
    "version": 3
   },
   "file_extension": ".py",
   "mimetype": "text/x-python",
   "name": "python",
   "nbconvert_exporter": "python",
   "pygments_lexer": "ipython3",
   "version": "3.6.5"
  },
  "toc": {
   "base_numbering": 1,
   "nav_menu": {},
   "number_sections": true,
   "sideBar": true,
   "skip_h1_title": false,
   "title_cell": "Table of Contents",
   "title_sidebar": "Contents",
   "toc_cell": false,
   "toc_position": {},
   "toc_section_display": true,
   "toc_window_display": false
  }
 },
 "nbformat": 4,
 "nbformat_minor": 2
}
