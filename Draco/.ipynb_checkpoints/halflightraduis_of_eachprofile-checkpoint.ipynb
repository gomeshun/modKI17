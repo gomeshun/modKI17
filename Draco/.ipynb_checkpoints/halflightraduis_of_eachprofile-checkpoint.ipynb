{
 "cells": [
  {
   "cell_type": "code",
   "execution_count": 4,
   "metadata": {},
   "outputs": [],
   "source": [
    "from sympy import * \n",
    "init_printing()"
   ]
  },
  {
   "cell_type": "code",
   "execution_count": 5,
   "metadata": {},
   "outputs": [
    {
     "data": {
      "image/png": "[encoded data removed]",
      "text/latex": [
       "$$\\frac{1}{\\pi r_{e}^{2} \\left(\\frac{R^{2}}{r_{e}^{2}} + 1\\right)^{2}}$$"
      ],
      "text/plain": [
       "       1        \n",
       "────────────────\n",
       "               2\n",
       "      ⎛  2    ⎞ \n",
       "    2 ⎜ R     ⎟ \n",
       "π⋅rₑ ⋅⎜─── + 1⎟ \n",
       "      ⎜  2    ⎟ \n",
       "      ⎝rₑ     ⎠ "
      ]
     },
     "execution_count": 5,
     "metadata": {},
     "output_type": "execute_result"
    }
   ],
   "source": [
    "R = Symbol(\"R\",positive=True)\n",
    "re = Symbol(\"r_e\",positive=True)\n",
    "plummer2d = (1/pi/re**2)/(1+(R/re)**2)**2\n",
    "plummer2d"
   ]
  },
  {
   "cell_type": "code",
   "execution_count": 16,
   "metadata": {},
   "outputs": [
    {
     "data": {
      "image/png": "[encoded data removed]",
      "text/latex": [
       "$$- \\frac{2 r_{e}^{2}}{2 R^{2} + 2 r_{e}^{2}} + 1$$"
      ],
      "text/plain": [
       "         2        \n",
       "     2⋅rₑ         \n",
       "- ──────────── + 1\n",
       "     2       2    \n",
       "  2⋅R  + 2⋅rₑ     "
      ]
     },
     "execution_count": 16,
     "metadata": {},
     "output_type": "execute_result"
    }
   ],
   "source": [
    "cdf = integrate(2*pi*R*plummer2d,(R,0,R))\n",
    "cdf"
   ]
  },
  {
   "cell_type": "code",
   "execution_count": 18,
   "metadata": {},
   "outputs": [
    {
     "data": {
      "image/png": "[encoded data removed]",
      "text/latex": [
       "$$\\left [ r_{e}\\right ]$$"
      ],
      "text/plain": [
       "[rₑ]"
      ]
     },
     "execution_count": 18,
     "metadata": {},
     "output_type": "execute_result"
    }
   ],
   "source": [
    "solve(cdf-1/2,R)"
   ]
  },
  {
   "cell_type": "code",
   "execution_count": null,
   "metadata": {},
   "outputs": [],
   "source": []
  }
 ],
 "metadata": {
  "kernelspec": {
   "display_name": "Python 3",
   "language": "python",
   "name": "python3"
  },
  "language_info": {
   "codemirror_mode": {
    "name": "ipython",
    "version": 3
   },
   "file_extension": ".py",
   "mimetype": "text/x-python",
   "name": "python",
   "nbconvert_exporter": "python",
   "pygments_lexer": "ipython3",
   "version": "3.6.5"
  },
  "toc": {
   "base_numbering": 1,
   "nav_menu": {},
   "number_sections": true,
   "sideBar": true,
   "skip_h1_title": false,
   "title_cell": "Table of Contents",
   "title_sidebar": "Contents",
   "toc_cell": false,
   "toc_position": {},
   "toc_section_display": true,
   "toc_window_display": false
  }
 },
 "nbformat": 4,
 "nbformat_minor": 2
}
