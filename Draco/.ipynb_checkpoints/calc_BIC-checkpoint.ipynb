{
 "cells": [
  {
   "cell_type": "code",
   "execution_count": 1,
   "metadata": {},
   "outputs": [],
   "source": [
    "from plot_setup import *"
   ]
  },
  {
   "cell_type": "code",
   "execution_count": 4,
   "metadata": {},
   "outputs": [],
   "source": [
    "fname,fnamelog = \"MCMCresult/MCMC_refR-re-w-center_exp2d_v001.csv\",\"MCMCresult/MCMClog_refR-re-w-center_exp2d_v001.csv\"\n",
    "fnamewbic,fnamewbiclog = \"MCMCresult/MCMC_refR-re-w-center_exp2d_wbic_v001.csv\",\"MCMCresult/MCMClog_refR-re-w-center_exp2d_wbic_v001.csv\"\n",
    "df,dflog = pd.read_csv(fname),pd.read_csv(fnamelog)\n",
    "dfwbic,dfwbiclog = pd.read_csv(fnamewbic),pd.read_csv(fnamewbiclog)"
   ]
  },
  {
   "cell_type": "code",
   "execution_count": 35,
   "metadata": {},
   "outputs": [
    {
     "name": "stdout",
     "output_type": "stream",
     "text": [
      "MCMCresult/MCMClog_refR-re-w-center_exp2d_v001.csv\n"
     ]
    },
    {
     "data": {
      "text/html": [
       "<div>\n",
       "<style scoped>\n",
       "    .dataframe tbody tr th:only-of-type {\n",
       "        vertical-align: middle;\n",
       "    }\n",
       "\n",
       "    .dataframe tbody tr th {\n",
       "        vertical-align: top;\n",
       "    }\n",
       "\n",
       "    .dataframe thead th {\n",
       "        text-align: right;\n",
       "    }\n",
       "</style>\n",
       "<table border=\"1\" class=\"dataframe\">\n",
       "  <thead>\n",
       "    <tr style=\"text-align: right;\">\n",
       "      <th></th>\n",
       "      <th>dde0</th>\n",
       "      <th>dra0</th>\n",
       "      <th>odds</th>\n",
       "      <th>re</th>\n",
       "      <th>iter_num</th>\n",
       "    </tr>\n",
       "  </thead>\n",
       "  <tbody>\n",
       "    <tr>\n",
       "      <th>0</th>\n",
       "      <td>0.010000</td>\n",
       "      <td>0.010000</td>\n",
       "      <td>0.500000</td>\n",
       "      <td>5.000000</td>\n",
       "      <td>5000</td>\n",
       "    </tr>\n",
       "    <tr>\n",
       "      <th>1</th>\n",
       "      <td>0.010000</td>\n",
       "      <td>0.010000</td>\n",
       "      <td>0.500000</td>\n",
       "      <td>5.000000</td>\n",
       "      <td>5000</td>\n",
       "    </tr>\n",
       "    <tr>\n",
       "      <th>2</th>\n",
       "      <td>0.003167</td>\n",
       "      <td>0.006883</td>\n",
       "      <td>0.562658</td>\n",
       "      <td>3.177008</td>\n",
       "      <td>5000</td>\n",
       "    </tr>\n",
       "    <tr>\n",
       "      <th>3</th>\n",
       "      <td>0.003080</td>\n",
       "      <td>0.006884</td>\n",
       "      <td>0.545004</td>\n",
       "      <td>2.994798</td>\n",
       "      <td>5000</td>\n",
       "    </tr>\n",
       "    <tr>\n",
       "      <th>4</th>\n",
       "      <td>0.003198</td>\n",
       "      <td>0.007108</td>\n",
       "      <td>0.508639</td>\n",
       "      <td>3.003558</td>\n",
       "      <td>200000</td>\n",
       "    </tr>\n",
       "  </tbody>\n",
       "</table>\n",
       "</div>"
      ],
      "text/plain": [
       "       dde0      dra0      odds        re  iter_num\n",
       "0  0.010000  0.010000  0.500000  5.000000      5000\n",
       "1  0.010000  0.010000  0.500000  5.000000      5000\n",
       "2  0.003167  0.006883  0.562658  3.177008      5000\n",
       "3  0.003080  0.006884  0.545004  2.994798      5000\n",
       "4  0.003198  0.007108  0.508639  3.003558    200000"
      ]
     },
     "metadata": {},
     "output_type": "display_data"
    }
   ],
   "source": [
    "print(fnamelog)\n",
    "display(dflog)"
   ]
  },
  {
   "cell_type": "code",
   "execution_count": 36,
   "metadata": {},
   "outputs": [
    {
     "name": "stdout",
     "output_type": "stream",
     "text": [
      "MCMCresult/MCMClog_refR-re-w-center_exp2d_wbic_v001.csv\n"
     ]
    },
    {
     "data": {
      "text/html": [
       "<div>\n",
       "<style scoped>\n",
       "    .dataframe tbody tr th:only-of-type {\n",
       "        vertical-align: middle;\n",
       "    }\n",
       "\n",
       "    .dataframe tbody tr th {\n",
       "        vertical-align: top;\n",
       "    }\n",
       "\n",
       "    .dataframe thead th {\n",
       "        text-align: right;\n",
       "    }\n",
       "</style>\n",
       "<table border=\"1\" class=\"dataframe\">\n",
       "  <thead>\n",
       "    <tr style=\"text-align: right;\">\n",
       "      <th></th>\n",
       "      <th>dde0</th>\n",
       "      <th>dra0</th>\n",
       "      <th>odds</th>\n",
       "      <th>re</th>\n",
       "      <th>iter_num</th>\n",
       "    </tr>\n",
       "  </thead>\n",
       "  <tbody>\n",
       "    <tr>\n",
       "      <th>0</th>\n",
       "      <td>0.010000</td>\n",
       "      <td>0.010000</td>\n",
       "      <td>0.500000</td>\n",
       "      <td>5.000000</td>\n",
       "      <td>5000</td>\n",
       "    </tr>\n",
       "    <tr>\n",
       "      <th>1</th>\n",
       "      <td>0.010000</td>\n",
       "      <td>0.010000</td>\n",
       "      <td>0.500000</td>\n",
       "      <td>5.000000</td>\n",
       "      <td>5000</td>\n",
       "    </tr>\n",
       "    <tr>\n",
       "      <th>2</th>\n",
       "      <td>0.003167</td>\n",
       "      <td>0.006883</td>\n",
       "      <td>0.562658</td>\n",
       "      <td>3.177008</td>\n",
       "      <td>5000</td>\n",
       "    </tr>\n",
       "    <tr>\n",
       "      <th>3</th>\n",
       "      <td>0.003080</td>\n",
       "      <td>0.006884</td>\n",
       "      <td>0.545004</td>\n",
       "      <td>2.994798</td>\n",
       "      <td>5000</td>\n",
       "    </tr>\n",
       "    <tr>\n",
       "      <th>4</th>\n",
       "      <td>0.003198</td>\n",
       "      <td>0.007108</td>\n",
       "      <td>0.508639</td>\n",
       "      <td>3.003558</td>\n",
       "      <td>200000</td>\n",
       "    </tr>\n",
       "  </tbody>\n",
       "</table>\n",
       "</div>"
      ],
      "text/plain": [
       "       dde0      dra0      odds        re  iter_num\n",
       "0  0.010000  0.010000  0.500000  5.000000      5000\n",
       "1  0.010000  0.010000  0.500000  5.000000      5000\n",
       "2  0.003167  0.006883  0.562658  3.177008      5000\n",
       "3  0.003080  0.006884  0.545004  2.994798      5000\n",
       "4  0.003198  0.007108  0.508639  3.003558    200000"
      ]
     },
     "metadata": {},
     "output_type": "display_data"
    }
   ],
   "source": [
    "print(fnamewbiclog)\n",
    "display(dfwbiclog)"
   ]
  },
  {
   "cell_type": "code",
   "execution_count": 5,
   "metadata": {},
   "outputs": [
    {
     "data": {
      "text/plain": [
       "3655"
      ]
     },
     "metadata": {},
     "output_type": "display_data"
    },
    {
     "name": "stdout",
     "output_type": "stream",
     "text": [
      " bic:54970.821511749135\n",
      "wbic:54971.06783971437\n"
     ]
    }
   ],
   "source": [
    "n_sample = len(pd.read_csv(\"Draco_SDSS_cut_xy1.0.csv\"))\n",
    "display(n_sample)\n",
    "used_iter = 200000\n",
    "used_iter_wbic = 200000\n",
    "beta = 1/np.log(n_sample)\n",
    "bic = -df.logpdf[-used_iter:].max() + (len(df.columns)-1)/2/beta\n",
    "wbic = -dfwbic[-used_iter_wbic:].logpdf.mean()/beta\n",
    "print(\" bic:{}\".format(bic))\n",
    "print(\"wbic:{}\".format(wbic))"
   ]
  },
  {
   "cell_type": "code",
   "execution_count": 6,
   "metadata": {},
   "outputs": [
    {
     "data": {
      "text/html": [
       "<div>\n",
       "<style scoped>\n",
       "    .dataframe tbody tr th:only-of-type {\n",
       "        vertical-align: middle;\n",
       "    }\n",
       "\n",
       "    .dataframe tbody tr th {\n",
       "        vertical-align: top;\n",
       "    }\n",
       "\n",
       "    .dataframe thead th {\n",
       "        text-align: right;\n",
       "    }\n",
       "</style>\n",
       "<table border=\"1\" class=\"dataframe\">\n",
       "  <thead>\n",
       "    <tr style=\"text-align: right;\">\n",
       "      <th></th>\n",
       "      <th>bic</th>\n",
       "      <th>fname_bic</th>\n",
       "      <th>fname_wbic</th>\n",
       "      <th>n_sample_bic</th>\n",
       "      <th>n_sample_wbic</th>\n",
       "      <th>wbic</th>\n",
       "    </tr>\n",
       "  </thead>\n",
       "  <tbody>\n",
       "    <tr>\n",
       "      <th>0</th>\n",
       "      <td>54970.908492</td>\n",
       "      <td>MCMCresult/MCMC_refR-re-w-center_v002.csv</td>\n",
       "      <td>MCMCresult/MCMC_refR-re-w-center_wbic_v002.csv</td>\n",
       "      <td>600000.0</td>\n",
       "      <td>600000.0</td>\n",
       "      <td>54970.897600</td>\n",
       "    </tr>\n",
       "    <tr>\n",
       "      <th>1</th>\n",
       "      <td>54971.836344</td>\n",
       "      <td>MCMCresult/MCMC_refR-re-w-center_sersic_v001.csv</td>\n",
       "      <td>MCMCresult/MCMC_refR-re-w-center_sersic_wbic_v...</td>\n",
       "      <td>600000.0</td>\n",
       "      <td>200000.0</td>\n",
       "      <td>54972.205138</td>\n",
       "    </tr>\n",
       "    <tr>\n",
       "      <th>2</th>\n",
       "      <td>54970.821512</td>\n",
       "      <td>MCMCresult/MCMC_refR-re-w-center_exp2d_v001.csv</td>\n",
       "      <td>MCMCresult/MCMC_refR-re-w-center_exp2d_wbic_v0...</td>\n",
       "      <td>200000.0</td>\n",
       "      <td>200000.0</td>\n",
       "      <td>54971.067840</td>\n",
       "    </tr>\n",
       "  </tbody>\n",
       "</table>\n",
       "</div>"
      ],
      "text/plain": [
       "            bic                                         fname_bic  \\\n",
       "0  54970.908492         MCMCresult/MCMC_refR-re-w-center_v002.csv   \n",
       "1  54971.836344  MCMCresult/MCMC_refR-re-w-center_sersic_v001.csv   \n",
       "2  54970.821512   MCMCresult/MCMC_refR-re-w-center_exp2d_v001.csv   \n",
       "\n",
       "                                          fname_wbic  n_sample_bic  \\\n",
       "0     MCMCresult/MCMC_refR-re-w-center_wbic_v002.csv      600000.0   \n",
       "1  MCMCresult/MCMC_refR-re-w-center_sersic_wbic_v...      600000.0   \n",
       "2  MCMCresult/MCMC_refR-re-w-center_exp2d_wbic_v0...      200000.0   \n",
       "\n",
       "   n_sample_wbic          wbic  \n",
       "0       600000.0  54970.897600  \n",
       "1       200000.0  54972.205138  \n",
       "2       200000.0  54971.067840  "
      ]
     },
     "execution_count": 6,
     "metadata": {},
     "output_type": "execute_result"
    }
   ],
   "source": [
    "new = pd.Series({\"bic\":bic,\"n_sample_bic\":used_iter,\"fname_bic\":fname,\"wbic\":wbic,\"n_sample_wbic\":used_iter_wbic,\"fname_wbic\":fnamewbic})\n",
    "out = pd.read_csv(\"bic_wbic.csv\").append(new,ignore_index=True)\n",
    "out"
   ]
  },
  {
   "cell_type": "code",
   "execution_count": 22,
   "metadata": {},
   "outputs": [
    {
     "data": {
      "text/html": [
       "<div>\n",
       "<style scoped>\n",
       "    .dataframe tbody tr th:only-of-type {\n",
       "        vertical-align: middle;\n",
       "    }\n",
       "\n",
       "    .dataframe tbody tr th {\n",
       "        vertical-align: top;\n",
       "    }\n",
       "\n",
       "    .dataframe thead th {\n",
       "        text-align: right;\n",
       "    }\n",
       "</style>\n",
       "<table border=\"1\" class=\"dataframe\">\n",
       "  <thead>\n",
       "    <tr style=\"text-align: right;\">\n",
       "      <th></th>\n",
       "      <th>bic</th>\n",
       "      <th>fname_bic</th>\n",
       "      <th>fname_wbic</th>\n",
       "      <th>n_sample_bic</th>\n",
       "      <th>n_sample_wbic</th>\n",
       "      <th>wbic</th>\n",
       "    </tr>\n",
       "  </thead>\n",
       "  <tbody>\n",
       "    <tr>\n",
       "      <th>0</th>\n",
       "      <td>54970.908492</td>\n",
       "      <td>MCMCresult/MCMC_refR-re-w-center_v002.csv</td>\n",
       "      <td>MCMCresult/MCMC_refR-re-w-center_wbic_v002.csv</td>\n",
       "      <td>600000.0</td>\n",
       "      <td>600000.0</td>\n",
       "      <td>54970.8976</td>\n",
       "    </tr>\n",
       "  </tbody>\n",
       "</table>\n",
       "</div>"
      ],
      "text/plain": [
       "            bic                                  fname_bic  \\\n",
       "0  54970.908492  MCMCresult/MCMC_refR-re-w-center_v002.csv   \n",
       "\n",
       "                                       fname_wbic  n_sample_bic  \\\n",
       "0  MCMCresult/MCMC_refR-re-w-center_wbic_v002.csv      600000.0   \n",
       "\n",
       "   n_sample_wbic        wbic  \n",
       "0       600000.0  54970.8976  "
      ]
     },
     "execution_count": 22,
     "metadata": {},
     "output_type": "execute_result"
    }
   ],
   "source": [
    "out"
   ]
  },
  {
   "cell_type": "code",
   "execution_count": 7,
   "metadata": {},
   "outputs": [],
   "source": [
    "out.to_csv(\"bic_wbic.csv\",index=None)"
   ]
  },
  {
   "cell_type": "code",
   "execution_count": 8,
   "metadata": {},
   "outputs": [
    {
     "data": {
      "text/html": [
       "<div>\n",
       "<style scoped>\n",
       "    .dataframe tbody tr th:only-of-type {\n",
       "        vertical-align: middle;\n",
       "    }\n",
       "\n",
       "    .dataframe tbody tr th {\n",
       "        vertical-align: top;\n",
       "    }\n",
       "\n",
       "    .dataframe thead th {\n",
       "        text-align: right;\n",
       "    }\n",
       "</style>\n",
       "<table border=\"1\" class=\"dataframe\">\n",
       "  <thead>\n",
       "    <tr style=\"text-align: right;\">\n",
       "      <th></th>\n",
       "      <th>bic</th>\n",
       "      <th>fname_bic</th>\n",
       "      <th>fname_wbic</th>\n",
       "      <th>n_sample_bic</th>\n",
       "      <th>n_sample_wbic</th>\n",
       "      <th>wbic</th>\n",
       "    </tr>\n",
       "  </thead>\n",
       "  <tbody>\n",
       "    <tr>\n",
       "      <th>0</th>\n",
       "      <td>54970.908492</td>\n",
       "      <td>MCMCresult/MCMC_refR-re-w-center_v002.csv</td>\n",
       "      <td>MCMCresult/MCMC_refR-re-w-center_wbic_v002.csv</td>\n",
       "      <td>600000.0</td>\n",
       "      <td>600000.0</td>\n",
       "      <td>54970.897600</td>\n",
       "    </tr>\n",
       "    <tr>\n",
       "      <th>1</th>\n",
       "      <td>54971.836344</td>\n",
       "      <td>MCMCresult/MCMC_refR-re-w-center_sersic_v001.csv</td>\n",
       "      <td>MCMCresult/MCMC_refR-re-w-center_sersic_wbic_v...</td>\n",
       "      <td>600000.0</td>\n",
       "      <td>200000.0</td>\n",
       "      <td>54972.205138</td>\n",
       "    </tr>\n",
       "    <tr>\n",
       "      <th>2</th>\n",
       "      <td>54970.821512</td>\n",
       "      <td>MCMCresult/MCMC_refR-re-w-center_exp2d_v001.csv</td>\n",
       "      <td>MCMCresult/MCMC_refR-re-w-center_exp2d_wbic_v0...</td>\n",
       "      <td>200000.0</td>\n",
       "      <td>200000.0</td>\n",
       "      <td>54971.067840</td>\n",
       "    </tr>\n",
       "  </tbody>\n",
       "</table>\n",
       "</div>"
      ],
      "text/plain": [
       "            bic                                         fname_bic  \\\n",
       "0  54970.908492         MCMCresult/MCMC_refR-re-w-center_v002.csv   \n",
       "1  54971.836344  MCMCresult/MCMC_refR-re-w-center_sersic_v001.csv   \n",
       "2  54970.821512   MCMCresult/MCMC_refR-re-w-center_exp2d_v001.csv   \n",
       "\n",
       "                                          fname_wbic  n_sample_bic  \\\n",
       "0     MCMCresult/MCMC_refR-re-w-center_wbic_v002.csv      600000.0   \n",
       "1  MCMCresult/MCMC_refR-re-w-center_sersic_wbic_v...      600000.0   \n",
       "2  MCMCresult/MCMC_refR-re-w-center_exp2d_wbic_v0...      200000.0   \n",
       "\n",
       "   n_sample_wbic          wbic  \n",
       "0       600000.0  54970.897600  \n",
       "1       200000.0  54972.205138  \n",
       "2       200000.0  54971.067840  "
      ]
     },
     "execution_count": 8,
     "metadata": {},
     "output_type": "execute_result"
    }
   ],
   "source": [
    "pd.read_csv(\"bic_wbic.csv\")"
   ]
  },
  {
   "cell_type": "code",
   "execution_count": null,
   "metadata": {},
   "outputs": [],
   "source": []
  }
 ],
 "metadata": {
  "kernelspec": {
   "display_name": "Python 3",
   "language": "python",
   "name": "python3"
  },
  "language_info": {
   "codemirror_mode": {
    "name": "ipython",
    "version": 3
   },
   "file_extension": ".py",
   "mimetype": "text/x-python",
   "name": "python",
   "nbconvert_exporter": "python",
   "pygments_lexer": "ipython3",
   "version": "3.6.5"
  },
  "toc": {
   "base_numbering": 1,
   "nav_menu": {},
   "number_sections": true,
   "sideBar": true,
   "skip_h1_title": false,
   "title_cell": "Table of Contents",
   "title_sidebar": "Contents",
   "toc_cell": false,
   "toc_position": {},
   "toc_section_display": true,
   "toc_window_display": false
  }
 },
 "nbformat": 4,
 "nbformat_minor": 2
}
