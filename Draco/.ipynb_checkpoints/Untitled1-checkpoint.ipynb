{
 "cells": [
  {
   "cell_type": "code",
   "execution_count": 4,
   "metadata": {},
   "outputs": [],
   "source": [
    "from sympy import *\n",
    "init_printing()"
   ]
  },
  {
   "cell_type": "code",
   "execution_count": 12,
   "metadata": {},
   "outputs": [],
   "source": [
    "x0,dx,y0,dy = symbols(\"x_0 \\delta{x} y_0 \\delta{y}\")\n",
    "x,y = x0+dx, y0+dy"
   ]
  },
  {
   "cell_type": "code",
   "execution_count": 56,
   "metadata": {},
   "outputs": [
    {
     "data": {
      "image/png": "[encoded data removed]",
      "text/latex": [
       "$$- \\left(\\sin{\\left (y_{0} \\right )} \\sin{\\left (\\delta{y} + y_{0} \\right )} + \\cos{\\left (\\delta{x} \\right )} \\cos{\\left (y_{0} \\right )} \\cos{\\left (\\delta{y} + y_{0} \\right )}\\right)^{2} + 1$$"
      ],
      "text/plain": [
       "                                                                            2 \n",
       "- (sin(y₀)⋅sin(\\delta{y} + y₀) + cos(\\delta{x})⋅cos(y₀)⋅cos(\\delta{y} + y₀))  \n",
       "\n",
       "   \n",
       "+ 1"
      ]
     },
     "metadata": {},
     "output_type": "display_data"
    },
    {
     "data": {
      "image/png": "[encoded data removed]",
      "text/latex": [
       "$$- \\left(\\left(- \\sin{\\left (\\delta{y} \\right )} \\sin{\\left (y_{0} \\right )} + \\cos{\\left (\\delta{y} \\right )} \\cos{\\left (y_{0} \\right )}\\right) \\cos{\\left (\\delta{x} \\right )} \\cos{\\left (y_{0} \\right )} + \\left(\\sin{\\left (\\delta{y} \\right )} \\cos{\\left (y_{0} \\right )} + \\sin{\\left (y_{0} \\right )} \\cos{\\left (\\delta{y} \\right )}\\right) \\sin{\\left (y_{0} \\right )}\\right)^{2} + 1$$"
      ],
      "text/plain": [
       "                                                                              \n",
       "- ((-sin(\\delta{y})⋅sin(y₀) + cos(\\delta{y})⋅cos(y₀))⋅cos(\\delta{x})⋅cos(y₀) +\n",
       "\n",
       "                                                           2    \n",
       " (sin(\\delta{y})⋅cos(y₀) + sin(y₀)⋅cos(\\delta{y}))⋅sin(y₀))  + 1"
      ]
     },
     "metadata": {},
     "output_type": "display_data"
    }
   ],
   "source": [
    "c_th = cos(y0)*cos(y)*cos(x-x0)+sin(y0)*sin(y)\n",
    "distsq = (1-c_th*c_th)\n",
    "display(simplify(distsq))\n",
    "display(collect(expand_trig(distsq),[sin(dy),sin(dx)]))\n",
    "#display(expand(expand_trig(distsq)))"
   ]
  },
  {
   "cell_type": "code",
   "execution_count": 49,
   "metadata": {},
   "outputs": [
    {
     "data": {
      "image/png": "[encoded data removed]",
      "text/latex": [
       "$$\\sin^{2}{\\left (\\delta{x} \\right )} \\cos^{2}{\\left (\\delta{y} + y_{0} \\right )} + \\sin^{2}{\\left (\\delta{x} \\right )}$$"
      ],
      "text/plain": [
       "   2               2                      2           \n",
       "sin (\\delta{x})⋅cos (\\delta{y} + y₀) + sin (\\delta{x})"
      ]
     },
     "execution_count": 49,
     "metadata": {},
     "output_type": "execute_result"
    }
   ],
   "source": [
    "asymptotical_form = cos(y)**2 * sin(dx)**2 + sin(dx)**2\n",
    "asymptotical_form"
   ]
  },
  {
   "cell_type": "code",
   "execution_count": 50,
   "metadata": {},
   "outputs": [
    {
     "data": {
      "image/png": "[encoded data removed]",
      "text/latex": [
       "$$\\frac{1}{2} \\left(\\cos{\\left (2 y_{0} \\right )} - 1\\right)^{2} \\cos{\\left (\\delta{x} \\right )} - \\frac{1}{8} \\left(\\cos{\\left (2 y_{0} \\right )} - 1\\right)^{2} \\cos{\\left (2 \\delta{x} \\right )} - \\frac{3}{8} \\left(\\cos{\\left (2 y_{0} \\right )} - 1\\right)^{2} - \\frac{3}{4} \\cos{\\left (\\delta{x} \\right )} + \\frac{13}{16} \\cos{\\left (2 \\delta{x} \\right )} - \\frac{3}{16} \\cos{\\left (2 \\delta{y} \\right )} - \\frac{5}{8} \\cos{\\left (2 y_{0} \\right )} + \\frac{3}{16} \\cos{\\left (4 y_{0} \\right )} - \\frac{1}{8} \\cos{\\left (\\delta{x} - 2 \\delta{y} \\right )} - \\frac{1}{32} \\cos{\\left (2 \\left(\\delta{x} - \\delta{y}\\right) \\right )} - \\frac{1}{32} \\cos{\\left (2 \\left(\\delta{x} + \\delta{y}\\right) \\right )} - \\frac{1}{8} \\cos{\\left (\\delta{x} + 2 \\delta{y} \\right )} - \\frac{1}{8} \\cos{\\left (\\delta{x} - 4 y_{0} \\right )} + \\frac{1}{2} \\cos{\\left (\\delta{x} - 2 y_{0} \\right )} + \\frac{1}{32} \\cos{\\left (2 \\left(\\delta{x} - 2 y_{0}\\right) \\right )} - \\frac{3}{16} \\cos{\\left (2 \\left(\\delta{x} - y_{0}\\right) \\right )} - \\frac{3}{16} \\cos{\\left (2 \\left(\\delta{x} + y_{0}\\right) \\right )} + \\frac{1}{2} \\cos{\\left (\\delta{x} + 2 y_{0} \\right )} + \\frac{1}{32} \\cos{\\left (2 \\left(\\delta{x} + 2 y_{0}\\right) \\right )} - \\frac{1}{8} \\cos{\\left (\\delta{x} + 4 y_{0} \\right )} - \\frac{1}{8} \\cos{\\left (2 \\left(\\delta{y} + y_{0}\\right) \\right )} - \\frac{3}{16} \\cos{\\left (2 \\left(\\delta{y} + 2 y_{0}\\right) \\right )} + \\frac{1}{16} \\cos{\\left (2 \\left(- \\delta{x} + \\delta{y} + y_{0}\\right) \\right )} - \\frac{1}{32} \\cos{\\left (2 \\left(- \\delta{x} + \\delta{y} + 2 y_{0}\\right) \\right )} + \\frac{1}{8} \\cos{\\left (- \\delta{x} + 2 \\delta{y} + 4 y_{0} \\right )} + \\frac{1}{16} \\cos{\\left (2 \\left(\\delta{x} + \\delta{y} + y_{0}\\right) \\right )} - \\frac{1}{32} \\cos{\\left (2 \\left(\\delta{x} + \\delta{y} + 2 y_{0}\\right) \\right )} + \\frac{1}{8} \\cos{\\left (\\delta{x} + 2 \\delta{y} + 4 y_{0} \\right )} + \\frac{7}{16}$$"
      ],
      "text/plain": [
       "               2                                 2                            \n",
       "(cos(2⋅y₀) - 1) ⋅cos(\\delta{x})   (cos(2⋅y₀) - 1) ⋅cos(2⋅\\delta{x})   3⋅(cos(2\n",
       "─────────────────────────────── - ───────────────────────────────── - ────────\n",
       "               2                                  8                           \n",
       "\n",
       "         2                                                                    \n",
       "⋅y₀) - 1)    3⋅cos(\\delta{x})   13⋅cos(2⋅\\delta{x})   3⋅cos(2⋅\\delta{y})   5⋅c\n",
       "────────── - ──────────────── + ─────────────────── - ────────────────── - ───\n",
       "8                   4                    16                   16              \n",
       "\n",
       "                                                                              \n",
       "os(2⋅y₀)   3⋅cos(4⋅y₀)   cos(\\delta{x} - 2⋅\\delta{y})   cos(2⋅(\\delta{x} - \\de\n",
       "──────── + ─────────── - ──────────────────────────── - ──────────────────────\n",
       "  8             16                    8                               32      \n",
       "\n",
       "                                                                              \n",
       "lta{y}))   cos(2⋅(\\delta{x} + \\delta{y}))   cos(\\delta{x} + 2⋅\\delta{y})   cos\n",
       "──────── - ────────────────────────────── - ──────────────────────────── - ───\n",
       "                         32                              8                    \n",
       "\n",
       "                                                                              \n",
       "(\\delta{x} - 4⋅y₀)   cos(\\delta{x} - 2⋅y₀)   cos(2⋅(\\delta{x} - 2⋅y₀))   3⋅cos\n",
       "────────────────── + ───────────────────── + ───────────────────────── - ─────\n",
       "       8                       2                         32                   \n",
       "\n",
       "                                                                              \n",
       "(2⋅(\\delta{x} - y₀))   3⋅cos(2⋅(\\delta{x} + y₀))   cos(\\delta{x} + 2⋅y₀)   cos\n",
       "──────────────────── - ───────────────────────── + ───────────────────── + ───\n",
       "       16                          16                        2                \n",
       "\n",
       "                                                                              \n",
       "(2⋅(\\delta{x} + 2⋅y₀))   cos(\\delta{x} + 4⋅y₀)   cos(2⋅(\\delta{y} + y₀))   3⋅c\n",
       "────────────────────── - ───────────────────── - ─────────────────────── - ───\n",
       "         32                        8                        8                 \n",
       "\n",
       "                                                                              \n",
       "os(2⋅(\\delta{y} + 2⋅y₀))   cos(2⋅(-\\delta{x} + \\delta{y} + y₀))   cos(2⋅(-\\del\n",
       "──────────────────────── + ──────────────────────────────────── - ────────────\n",
       "          16                                16                                \n",
       "\n",
       "                                                                              \n",
       "ta{x} + \\delta{y} + 2⋅y₀))   cos(-\\delta{x} + 2⋅\\delta{y} + 4⋅y₀)   cos(2⋅(\\de\n",
       "────────────────────────── + ──────────────────────────────────── + ──────────\n",
       "      32                                      8                               \n",
       "\n",
       "                                                                              \n",
       "lta{x} + \\delta{y} + y₀))   cos(2⋅(\\delta{x} + \\delta{y} + 2⋅y₀))   cos(\\delta\n",
       "───────────────────────── - ───────────────────────────────────── + ──────────\n",
       "       16                                     32                              \n",
       "\n",
       "                              \n",
       "{x} + 2⋅\\delta{y} + 4⋅y₀)   7 \n",
       "───────────────────────── + ──\n",
       "       8                    16"
      ]
     },
     "execution_count": 50,
     "metadata": {},
     "output_type": "execute_result"
    }
   ],
   "source": [
    "simplify(trigsimp(expand(expand_trig(distsq - asymptotical_form))))"
   ]
  },
  {
   "cell_type": "code",
   "execution_count": 66,
   "metadata": {},
   "outputs": [
    {
     "data": {
      "image/png": "[encoded data removed]",
      "text/latex": [
       "$$1 - \\cos^{2}{\\left (y_{0} \\right )} \\cos^{2}{\\left (\\delta{y} + y_{0} \\right )} - 2 \\sin{\\left (y_{0} \\right )} \\sin{\\left (\\delta{y} + y_{0} \\right )} \\cos{\\left (y_{0} \\right )} \\cos{\\left (\\delta{y} + y_{0} \\right )} - \\sin^{2}{\\left (y_{0} \\right )} \\sin^{2}{\\left (\\delta{y} + y_{0} \\right )} + \\delta{x}^{2} \\left(\\sin{\\left (y_{0} \\right )} \\sin{\\left (\\delta{y} + y_{0} \\right )} \\cos{\\left (y_{0} \\right )} \\cos{\\left (\\delta{y} + y_{0} \\right )} + \\cos^{2}{\\left (y_{0} \\right )} \\cos^{2}{\\left (\\delta{y} + y_{0} \\right )}\\right) + \\delta{x}^{4} \\left(- \\frac{1}{12} \\sin{\\left (y_{0} \\right )} \\sin{\\left (\\delta{y} + y_{0} \\right )} \\cos{\\left (y_{0} \\right )} \\cos{\\left (\\delta{y} + y_{0} \\right )} - \\frac{1}{3} \\cos^{2}{\\left (y_{0} \\right )} \\cos^{2}{\\left (\\delta{y} + y_{0} \\right )}\\right) + \\mathcal{O}\\left(\\delta{x}^{6}\\right)$$"
      ],
      "text/plain": [
       "                                                                              \n",
       "       2        2                                                             \n",
       "1 - cos (y₀)⋅cos (\\delta{y} + y₀) - 2⋅sin(y₀)⋅sin(\\delta{y} + y₀)⋅cos(y₀)⋅cos(\n",
       "                                                                              \n",
       "\n",
       "                                                                              \n",
       "                     2        2                            2 ⎛                \n",
       "\\delta{y} + y₀) - sin (y₀)⋅sin (\\delta{y} + y₀) + \\delta{x} ⋅⎝sin(y₀)⋅sin(\\del\n",
       "                                                                              \n",
       "\n",
       "                                                                              \n",
       "                                             2        2                ⎞      \n",
       "ta{y} + y₀)⋅cos(y₀)⋅cos(\\delta{y} + y₀) + cos (y₀)⋅cos (\\delta{y} + y₀)⎠ + \\de\n",
       "                                                                              \n",
       "\n",
       "        ⎛                                                               2     \n",
       "      4 ⎜  sin(y₀)⋅sin(\\delta{y} + y₀)⋅cos(y₀)⋅cos(\\delta{y} + y₀)   cos (y₀)⋅\n",
       "lta{x} ⋅⎜- ─────────────────────────────────────────────────────── - ─────────\n",
       "        ⎝                             12                                      \n",
       "\n",
       "   2                ⎞                \n",
       "cos (\\delta{y} + y₀)⎟    ⎛         6⎞\n",
       "────────────────────⎟ + O⎝\\delta{x} ⎠\n",
       "     3              ⎠                "
      ]
     },
     "execution_count": 66,
     "metadata": {},
     "output_type": "execute_result"
    }
   ],
   "source": [
    "series(distsq,dx)"
   ]
  },
  {
   "cell_type": "code",
   "execution_count": 69,
   "metadata": {},
   "outputs": [
    {
     "data": {
      "image/png": "[encoded data removed]",
      "text/latex": [
       "$$\\frac{R_{0}^{2}}{R_{0}^{2} + r_{e}^{2}}$$"
      ],
      "text/plain": [
       "     2   \n",
       "   R₀    \n",
       "─────────\n",
       "  2     2\n",
       "R₀  + rₑ "
      ]
     },
     "execution_count": 69,
     "metadata": {},
     "output_type": "execute_result"
    }
   ],
   "source": [
    "R,R0,re = symbols(\"R R_0 r_e\", positive=True)\n",
    "plummer_2d_density = 1/(1+(R/re)**2)**2 /pi/re**2\n",
    "simplify(integrate(2*pi*R*plummer_2d_density,(R,0,R0)))"
   ]
  },
  {
   "cell_type": "code",
   "execution_count": null,
   "metadata": {},
   "outputs": [],
   "source": []
  }
 ],
 "metadata": {
  "kernelspec": {
   "display_name": "Python 3",
   "language": "python",
   "name": "python3"
  },
  "language_info": {
   "codemirror_mode": {
    "name": "ipython",
    "version": 3
   },
   "file_extension": ".py",
   "mimetype": "text/x-python",
   "name": "python",
   "nbconvert_exporter": "python",
   "pygments_lexer": "ipython3",
   "version": "3.6.5"
  },
  "toc": {
   "base_numbering": 1,
   "nav_menu": {},
   "number_sections": true,
   "sideBar": true,
   "skip_h1_title": false,
   "title_cell": "Table of Contents",
   "title_sidebar": "Contents",
   "toc_cell": false,
   "toc_position": {},
   "toc_section_display": true,
   "toc_window_display": false
  }
 },
 "nbformat": 4,
 "nbformat_minor": 2
}
