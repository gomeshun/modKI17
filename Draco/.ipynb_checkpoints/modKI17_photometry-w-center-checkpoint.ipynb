{
 "cells": [
  {
   "cell_type": "markdown",
   "metadata": {},
   "source": [
    "# Code"
   ]
  },
  {
   "cell_type": "code",
   "execution_count": 1,
   "metadata": {},
   "outputs": [],
   "source": [
    "from plot_setup import * \n",
    "import MCgenerator, dSph_model, coord"
   ]
  },
  {
   "cell_type": "code",
   "execution_count": 2,
   "metadata": {
    "code_folding": []
   },
   "outputs": [
    {
     "data": {
      "text/html": [
       "<div>\n",
       "<style scoped>\n",
       "    .dataframe tbody tr th:only-of-type {\n",
       "        vertical-align: middle;\n",
       "    }\n",
       "\n",
       "    .dataframe tbody tr th {\n",
       "        vertical-align: top;\n",
       "    }\n",
       "\n",
       "    .dataframe thead th {\n",
       "        text-align: right;\n",
       "    }\n",
       "</style>\n",
       "<table border=\"1\" class=\"dataframe\">\n",
       "  <thead>\n",
       "    <tr style=\"text-align: right;\">\n",
       "      <th></th>\n",
       "      <th>RAh</th>\n",
       "      <th>RAm</th>\n",
       "      <th>RAs</th>\n",
       "      <th>pmDEd</th>\n",
       "      <th>DEm</th>\n",
       "      <th>DEs</th>\n",
       "      <th>DIST</th>\n",
       "      <th>HLR</th>\n",
       "      <th>RAdeg</th>\n",
       "      <th>DEdeg</th>\n",
       "    </tr>\n",
       "  </thead>\n",
       "  <tbody>\n",
       "    <tr>\n",
       "      <th>Draco</th>\n",
       "      <td>17</td>\n",
       "      <td>20</td>\n",
       "      <td>12</td>\n",
       "      <td>57</td>\n",
       "      <td>54</td>\n",
       "      <td>55</td>\n",
       "      <td>76000.0</td>\n",
       "      <td>221.0</td>\n",
       "      <td>260.05</td>\n",
       "      <td>57.915278</td>\n",
       "    </tr>\n",
       "  </tbody>\n",
       "</table>\n",
       "</div>"
      ],
      "text/plain": [
       "       RAh  RAm  RAs  pmDEd  DEm  DEs     DIST    HLR   RAdeg      DEdeg\n",
       "Draco   17   20   12     57   54   55  76000.0  221.0  260.05  57.915278"
      ]
     },
     "execution_count": 2,
     "metadata": {},
     "output_type": "execute_result"
    }
   ],
   "source": [
    "prms = {\n",
    "    \"re\":r\"$r_e[\\mathrm{pc}]$\",\n",
    "    \"sigmafg\":r\"\\tilde{\\Sigma}_\\mathrm{FG}\"\n",
    "}\n",
    "dSph_property = pd.read_csv(\"dSph_property.csv\",index_col=0)\n",
    "draco_prop = dSph_property.loc[\"Draco\"]\n",
    "RA0 = draco_prop.RAdeg\n",
    "DE0 = draco_prop.DEdeg\n",
    "DIST = draco_prop.DIST\n",
    "dSph_property"
   ]
  },
  {
   "cell_type": "code",
   "execution_count": 3,
   "metadata": {},
   "outputs": [],
   "source": [
    "SPECIFY_NAME = \"refR-re-w-center_sersic\"\n",
    "FNAME_BASE = \"MCMCresult/MCMC{}_{}_{}.csv\"\n",
    "VERSION=\"v001\"\n",
    "# v001: for mycut\n",
    "# v002: for spectroscopy cut"
   ]
  },
  {
   "cell_type": "code",
   "execution_count": 15,
   "metadata": {
    "code_folding": []
   },
   "outputs": [],
   "source": [
    "#update likelihood\n",
    "class KI17_loglikelihood_mod:\n",
    "    def __init__(self,dRAs,dDEs,beta=1):\n",
    "        self.dRAs = dRAs\n",
    "        self.dDEs = dDEs\n",
    "        self.RoI_R = np.max(self.Rs(0,0)) # use Rs.max as the RoI\n",
    "        self.beta = beta\n",
    "        print(Rs.describe())\n",
    "        print(\"beta: {}\".format(self.beta)) if beta != 1 else None\n",
    "        self.mem = dSph_model.sersic_model(re_pc=200,n=4)\n",
    "        self.fg = dSph_model.uniform2d_model(Rmax_pc=self.RoI_R)\n",
    "\n",
    "    def Rs(self,dra0,dde0):\n",
    "        return coord.projected_distance(\n",
    "            dist=DIST,\n",
    "            ra_center = RA0+dra0,\n",
    "            de_center = DE0+dde0,\n",
    "            ra = RA0+self.dRAs,\n",
    "            de = DE0+self.dDEs,\n",
    "            dtype=\"deg\")\n",
    "        \n",
    "    def __call__(self,re,n,odds,dra0,dde0):\n",
    "        return np.sum(self.loglikelis(re,n,odds,dra0,dde0))\n",
    "    def loglikelis(self,re,n,odds,dra0,dde0):\n",
    "        if re<0 or odds<0 or n<0.5 or 10<n:\n",
    "            return -np.inf\n",
    "        else:\n",
    "            mem,fg = self.mem,self.fg\n",
    "            mem.update({\"re_pc\":re,\"n\":n})\n",
    "            ref_R = self.mem.half_light_radius() # 1.67834699001666*re\n",
    "            \n",
    "            C1 = 1/mem.cdf_R(self.RoI_R)\n",
    "            C0 = fg.density_2d(self.RoI_R) # fg.density_2d returns constant for arbitrary input\n",
    "            #s = C0/(sigmafg*mem.density_2d(self.Rs)*C1 + C0)\n",
    "            #s = C0/(sigmafg*mem.density_2d(self.Rs)*C1)\n",
    "            s = 1/(1+ 1/odds * mem.density_2d(ref_R)/mem.mean_density_2d(self.RoI_R))\n",
    "            \n",
    "            arg_proj_dist_deg = {\n",
    "                \"ra\":self.dRAs+RA0,\"de\":self.dDEs+DE0,\n",
    "                \"ra_center\":RA0+dra0,\"de_center\":DE0+dde0\n",
    "            }\n",
    "            Rs = coord.projected_distance(dist=DIST,**arg_proj_dist_deg,dtype=\"deg\")\n",
    "            ret = np.log(s*C1*mem.density_2d(Rs)+(1-s)*C0)\n",
    "\n",
    "            return self.beta * ret\n"
   ]
  },
  {
   "cell_type": "code",
   "execution_count": 5,
   "metadata": {
    "code_folding": [
     0
    ]
   },
   "outputs": [],
   "source": [
    "class KI17_loglikelihood:\n",
    "    def __init__(self,Rs):\n",
    "        self.Rs = Rs\n",
    "        self.RoI_R = np.max(Rs) # use Rs.max as the RoI\n",
    "        print(self.Rs)\n",
    "        self.mem = dSph_model.plummer_model(re_pc=100)\n",
    "        self.fg = dSph_model.uniform2d_model(Rmax_pc=self.RoI_R)\n",
    "\n",
    "    def __call__(self,re,s):\n",
    "        if re<0 or not 0<s<1:\n",
    "            return -np.inf\n",
    "        else:\n",
    "            mem,fg = self.mem,self.fg\n",
    "            mem.update({\"re_pc\":re})\n",
    "            ref_R = re\n",
    "            \n",
    "            C1 = 1/mem.cdf_R(self.RoI_R)\n",
    "            C0 = fg.density_2d(self.RoI_R) # fg.density_2d returns constant for arbitrary input\n",
    "            #s = C0/(sigmafg*mem.density_2d(self.Rs)*C1 + C0)\n",
    "            #s = C0/(sigmafg*mem.density_2d(self.Rs)*C1)\n",
    "            #s = 1/(1+ 1/odds * mem.density_2d(ref_R)/mem.mean_density_2d(self.RoI_R))\n",
    "            \n",
    "            loglikelis = np.log(2*np.pi*self.Rs)+np.log(s*C1*mem.density_2d(self.Rs)+(1-s)*C0)\n",
    "            return np.sum(loglikelis)\n",
    "    def loglikelis(self,re,s):\n",
    "        if re<0 or not 0<s<1:\n",
    "            return -np.inf\n",
    "        else:\n",
    "            mem,fg = self.mem,self.fg\n",
    "            mem.update({\"re_pc\":re})\n",
    "            ref_R = re\n",
    "            \n",
    "            C1 = 1/mem.cdf_R(self.RoI_R)\n",
    "            C0 = fg.density_2d(self.RoI_R) # fg.density_2d returns constant for arbitrary input\n",
    "            #s = C0/(sigmafg*mem.density_2d(self.Rs)*C1 + C0)\n",
    "            #s = C0/(sigmafg*mem.density_2d(self.Rs)*C1)\n",
    "            #s = 1/(1+ 1/odds * mem.density_2d(ref_R)/mem.mean_density_2d(self.RoI_R))\n",
    "            \n",
    "            ret = np.log(2*np.pi*self.Rs)+np.log(s*C1*mem.density_2d(self.Rs)+(1-s)*C0)\n",
    "            return ret\n",
    "    def s_to_odds(self,s,ref_R):\n",
    "        mem,fg = self.mem,self.fg\n",
    "        return mem.density_2d(ref_R)/mem.mean_density_2d(self.RoI_R)/(1/s-1)"
   ]
  },
  {
   "cell_type": "code",
   "execution_count": 6,
   "metadata": {
    "code_folding": [],
    "scrolled": true
   },
   "outputs": [
    {
     "data": {
      "text/plain": [
       "<matplotlib.axes._subplots.AxesSubplot at 0x7f1738100e10>"
      ]
     },
     "execution_count": 6,
     "metadata": {},
     "output_type": "execute_result"
    },
    {
     "data": {
      "image/png": "[encoded data removed]",
      "text/plain": [
       "<Figure size 432x432 with 1 Axes>"
      ]
     },
     "metadata": {},
     "output_type": "display_data"
    }
   ],
   "source": [
    "df0 = np.loadtxt(\"Draco_SDSS_cut_xy1.0.csv\",comments=\"#\",delimiter=\",\")\n",
    "df_deg = pd.DataFrame(df0,columns=(\"x\",\"y\"))\n",
    "df_rad = np.deg2rad(pd.DataFrame(df0,columns=(\"x\",\"y\")))\n",
    "\n",
    "#ra = coord.hms_to_deg(df.RAh,df.RAm,df.RAs) + ra0\n",
    "#de = coord.dms_to_deg(df.pmDEd,df.DEm,df.DEs) + de0\n",
    "ra = df_deg.x + RA0\n",
    "de = df_deg.y + DE0\n",
    "\n",
    "\n",
    "arg_proj_dist = {\n",
    "    \"ra\":ra,\"de\":de,\n",
    "    \"ra_center\":RA0,\"de_center\":DE0\n",
    "}\n",
    "angles = coord.projected_angle(**arg_proj_dist,dtype=\"deg\")\n",
    "Rs = coord.projected_distance(dist=DIST,**arg_proj_dist,dtype=\"deg\")\n",
    "distort = np.cos(np.deg2rad(draco_prop.DEdeg))\n",
    "deg_max = 1\n",
    "df_deg[(np.abs(df_deg.x)<deg_max/distort).values * (np.abs(df_deg.y)<deg_max).values].plot.scatter(\"x\",\"y\",s=1,figsize=(6,6))"
   ]
  },
  {
   "cell_type": "markdown",
   "metadata": {},
   "source": [
    "## density of ofserbed stars"
   ]
  },
  {
   "cell_type": "code",
   "execution_count": 7,
   "metadata": {
    "scrolled": false
   },
   "outputs": [
    {
     "data": {
      "text/plain": [
       "array([[<matplotlib.axes._subplots.AxesSubplot object at 0x7f173026d6d8>]],\n",
       "      dtype=object)"
      ]
     },
     "execution_count": 7,
     "metadata": {},
     "output_type": "execute_result"
    },
    {
     "data": {
      "image/png": "[encoded data removed]",
      "text/plain": [
       "<Figure size 432x288 with 1 Axes>"
      ]
     },
     "metadata": {},
     "output_type": "display_data"
    }
   ],
   "source": [
    "pd.DataFrame({r\"$\\theta$[deg]\":angles}).hist(bins=50)"
   ]
  },
  {
   "cell_type": "code",
   "execution_count": 8,
   "metadata": {
    "scrolled": true
   },
   "outputs": [
    {
     "data": {
      "text/plain": [
       "array([[<matplotlib.axes._subplots.AxesSubplot object at 0x7f17301e4d30>]],\n",
       "      dtype=object)"
      ]
     },
     "execution_count": 8,
     "metadata": {},
     "output_type": "execute_result"
    },
    {
     "data": {
      "image/png": "[encoded data removed]",
      "text/plain": [
       "<Figure size 432x288 with 1 Axes>"
      ]
     },
     "metadata": {},
     "output_type": "display_data"
    }
   ],
   "source": [
    "pd.DataFrame({r\"$R$[pc]\":Rs}).hist(bins=50)"
   ]
  },
  {
   "cell_type": "markdown",
   "metadata": {},
   "source": [
    "## definition of likelihood"
   ]
  },
  {
   "cell_type": "code",
   "execution_count": 16,
   "metadata": {},
   "outputs": [
    {
     "name": "stdout",
     "output_type": "stream",
     "text": [
      "count    3655.000000\n",
      "mean      625.164179\n",
      "std       421.068471\n",
      "min         1.698731\n",
      "25%       211.871502\n",
      "50%       596.463856\n",
      "75%      1023.876544\n",
      "max      1325.086262\n",
      "dtype: float64\n"
     ]
    }
   ],
   "source": [
    "loglikeli = KI17_loglikelihood_mod(dRAs=df_deg.x[angles<1.0],dDEs=df_deg.y[angles<1.0])\n",
    "#loglikeli = KI17_loglikelihood(Rs[angles<1.0])"
   ]
  },
  {
   "cell_type": "code",
   "execution_count": 17,
   "metadata": {},
   "outputs": [
    {
     "name": "stdout",
     "output_type": "stream",
     "text": [
      "initialization of MCgenerator start.\n",
      "function loaded.\n"
     ]
    },
    {
     "ename": "TypeError",
     "evalue": "loglikelis() missing 1 required positional argument: 'dde0'",
     "output_type": "error",
     "traceback": [
      "\u001b[0;31m---------------------------------------------------------------------------\u001b[0m",
      "\u001b[0;31mTypeError\u001b[0m                                 Traceback (most recent call last)",
      "\u001b[0;32m<ipython-input-17-61b74607d4c2>\u001b[0m in \u001b[0;36m<module>\u001b[0;34m()\u001b[0m\n\u001b[1;32m      2\u001b[0m     \u001b[0margs_logpdf_init\u001b[0m\u001b[0;34m=\u001b[0m\u001b[0;34m{\u001b[0m\u001b[0;34m\"re\"\u001b[0m\u001b[0;34m:\u001b[0m\u001b[0;36m180\u001b[0m\u001b[0;34m,\u001b[0m\u001b[0;34m\"n\"\u001b[0m\u001b[0;34m:\u001b[0m\u001b[0;36m4\u001b[0m\u001b[0;34m,\u001b[0m \u001b[0;34m\"odds\"\u001b[0m\u001b[0;34m:\u001b[0m\u001b[0;36m6.5\u001b[0m\u001b[0;34m,\u001b[0m\u001b[0;34m\"dra0\"\u001b[0m\u001b[0;34m:\u001b[0m\u001b[0;36m0.0\u001b[0m\u001b[0;34m,\u001b[0m\u001b[0;34m\"dde0\"\u001b[0m\u001b[0;34m:\u001b[0m\u001b[0;36m0.0\u001b[0m\u001b[0;34m}\u001b[0m\u001b[0;34m,\u001b[0m\u001b[0;34m\u001b[0m\u001b[0m\n\u001b[1;32m      3\u001b[0m     \u001b[0mdargs_logpdf\u001b[0m\u001b[0;34m=\u001b[0m\u001b[0;34m{\u001b[0m\u001b[0;34m\"re\"\u001b[0m\u001b[0;34m:\u001b[0m\u001b[0;36m5.0\u001b[0m\u001b[0;34m,\u001b[0m\u001b[0;34m\"n\"\u001b[0m\u001b[0;34m:\u001b[0m\u001b[0;36m0.1\u001b[0m\u001b[0;34m,\u001b[0m\u001b[0;34m\"odds\"\u001b[0m\u001b[0;34m:\u001b[0m\u001b[0;36m0.5\u001b[0m\u001b[0;34m,\u001b[0m\u001b[0;34m\"dra0\"\u001b[0m\u001b[0;34m:\u001b[0m\u001b[0;36m0.01\u001b[0m\u001b[0;34m,\u001b[0m\u001b[0;34m\"dde0\"\u001b[0m\u001b[0;34m:\u001b[0m\u001b[0;36m0.01\u001b[0m\u001b[0;34m}\u001b[0m\u001b[0;34m,\u001b[0m\u001b[0;34m\u001b[0m\u001b[0m\n\u001b[0;32m----> 4\u001b[0;31m     \u001b[0mlogpdf_func\u001b[0m\u001b[0;34m=\u001b[0m\u001b[0mloglikeli\u001b[0m\u001b[0;34m\u001b[0m\u001b[0m\n\u001b[0m\u001b[1;32m      5\u001b[0m )\n",
      "\u001b[0;32m~/workspace/git_code/modKI17/Draco/MCgenerator.py\u001b[0m in \u001b[0;36m__init__\u001b[0;34m(self, logpdf_func, args_logpdf_init, dargs_logpdf, **options)\u001b[0m\n\u001b[1;32m     68\u001b[0m         \u001b[0mprint\u001b[0m\u001b[0;34m(\u001b[0m\u001b[0;34m\"function loaded.\"\u001b[0m\u001b[0;34m)\u001b[0m\u001b[0;34m\u001b[0m\u001b[0m\n\u001b[1;32m     69\u001b[0m         \u001b[0mself\u001b[0m\u001b[0;34m.\u001b[0m\u001b[0margs_logpdf_init\u001b[0m \u001b[0;34m=\u001b[0m \u001b[0mpd\u001b[0m\u001b[0;34m.\u001b[0m\u001b[0mSeries\u001b[0m\u001b[0;34m(\u001b[0m\u001b[0margs_logpdf_init\u001b[0m\u001b[0;34m)\u001b[0m\u001b[0;34m\u001b[0m\u001b[0m\n\u001b[0;32m---> 70\u001b[0;31m         \u001b[0mself\u001b[0m\u001b[0;34m.\u001b[0m\u001b[0mlogpdf_value_init\u001b[0m \u001b[0;34m=\u001b[0m \u001b[0mself\u001b[0m\u001b[0;34m.\u001b[0m\u001b[0mlogpdf_func\u001b[0m\u001b[0;34m(\u001b[0m\u001b[0;34m**\u001b[0m\u001b[0mself\u001b[0m\u001b[0;34m.\u001b[0m\u001b[0margs_logpdf_init\u001b[0m\u001b[0;34m)\u001b[0m\u001b[0;34m\u001b[0m\u001b[0m\n\u001b[0m\u001b[1;32m     71\u001b[0m         \u001b[0mprint\u001b[0m\u001b[0;34m(\u001b[0m\u001b[0;34m\"logpdf_initialization completed.\"\u001b[0m\u001b[0;34m)\u001b[0m\u001b[0;34m\u001b[0m\u001b[0m\n\u001b[1;32m     72\u001b[0m         \u001b[0;31m# initialization of chain\u001b[0m\u001b[0;34m\u001b[0m\u001b[0;34m\u001b[0m\u001b[0m\n",
      "\u001b[0;32m<ipython-input-15-f717de204514>\u001b[0m in \u001b[0;36m__call__\u001b[0;34m(self, re, n, odds, dra0, dde0)\u001b[0m\n\u001b[1;32m     24\u001b[0m             \u001b[0;32mreturn\u001b[0m \u001b[0;34m-\u001b[0m\u001b[0mnp\u001b[0m\u001b[0;34m.\u001b[0m\u001b[0minf\u001b[0m\u001b[0;34m\u001b[0m\u001b[0m\n\u001b[1;32m     25\u001b[0m         \u001b[0;32melse\u001b[0m\u001b[0;34m:\u001b[0m\u001b[0;34m\u001b[0m\u001b[0m\n\u001b[0;32m---> 26\u001b[0;31m             \u001b[0;32mreturn\u001b[0m \u001b[0mnp\u001b[0m\u001b[0;34m.\u001b[0m\u001b[0msum\u001b[0m\u001b[0;34m(\u001b[0m\u001b[0mself\u001b[0m\u001b[0;34m.\u001b[0m\u001b[0mloglikelis\u001b[0m\u001b[0;34m(\u001b[0m\u001b[0mre\u001b[0m\u001b[0;34m,\u001b[0m\u001b[0modds\u001b[0m\u001b[0;34m,\u001b[0m\u001b[0mdra0\u001b[0m\u001b[0;34m,\u001b[0m\u001b[0mdde0\u001b[0m\u001b[0;34m)\u001b[0m\u001b[0;34m)\u001b[0m\u001b[0;34m\u001b[0m\u001b[0m\n\u001b[0m\u001b[1;32m     27\u001b[0m     \u001b[0;32mdef\u001b[0m \u001b[0mloglikelis\u001b[0m\u001b[0;34m(\u001b[0m\u001b[0mself\u001b[0m\u001b[0;34m,\u001b[0m\u001b[0mre\u001b[0m\u001b[0;34m,\u001b[0m\u001b[0mn\u001b[0m\u001b[0;34m,\u001b[0m\u001b[0modds\u001b[0m\u001b[0;34m,\u001b[0m\u001b[0mdra0\u001b[0m\u001b[0;34m,\u001b[0m\u001b[0mdde0\u001b[0m\u001b[0;34m)\u001b[0m\u001b[0;34m:\u001b[0m\u001b[0;34m\u001b[0m\u001b[0m\n\u001b[1;32m     28\u001b[0m         \u001b[0;32mif\u001b[0m \u001b[0mre\u001b[0m\u001b[0;34m<\u001b[0m\u001b[0;36m0\u001b[0m \u001b[0;32mor\u001b[0m \u001b[0modds\u001b[0m\u001b[0;34m<\u001b[0m\u001b[0;36m0\u001b[0m\u001b[0;34m:\u001b[0m\u001b[0;34m\u001b[0m\u001b[0m\n",
      "\u001b[0;31mTypeError\u001b[0m: loglikelis() missing 1 required positional argument: 'dde0'"
     ]
    }
   ],
   "source": [
    "gen = MCgenerator.MCgenerator(\n",
    "    args_logpdf_init={\"re\":180,\"n\":4, \"odds\":6.5,\"dra0\":0.0,\"dde0\":0.0},\n",
    "    dargs_logpdf={\"re\":5.0,\"n\":0.1,\"odds\":0.5,\"dra0\":0.01,\"dde0\":0.01},\n",
    "    logpdf_func=loglikeli\n",
    ")"
   ]
  },
  {
   "cell_type": "code",
   "execution_count": 14,
   "metadata": {},
   "outputs": [
    {
     "name": "stdout",
     "output_type": "stream",
     "text": [
      "MCgeneration start.\n",
      "options: {}\n"
     ]
    },
    {
     "ename": "TypeError",
     "evalue": "NaN in acceptance rate calculation at 0th calculation \n-inf -> -inf\nargs_logpdf:\nre      180.0\nn         4.0\nodds      6.5\ndra0      0.0\ndde0      0.0\nName: 0, dtype: float64\nargs_logpdf_candidate:\nre      178.867716\nn         4.132387\nodds      6.531827\ndra0      0.013573\ndde0     -0.004904\ndtype: float64",
     "output_type": "error",
     "traceback": [
      "\u001b[0;31m---------------------------------------------------------------------------\u001b[0m",
      "\u001b[0;31mTypeError\u001b[0m                                 Traceback (most recent call last)",
      "\u001b[0;32m<ipython-input-14-1acb43143abf>\u001b[0m in \u001b[0;36m<module>\u001b[0;34m()\u001b[0m\n\u001b[1;32m      1\u001b[0m \u001b[0mNstep_init\u001b[0m \u001b[0;34m=\u001b[0m \u001b[0;36m5000\u001b[0m\u001b[0;34m\u001b[0m\u001b[0m\n\u001b[0;32m----> 2\u001b[0;31m \u001b[0mgen\u001b[0m\u001b[0;34m.\u001b[0m\u001b[0mgenerate\u001b[0m\u001b[0;34m(\u001b[0m\u001b[0mNstep_init\u001b[0m\u001b[0;34m)\u001b[0m\u001b[0;34m\u001b[0m\u001b[0m\n\u001b[0m",
      "\u001b[0;32m~/workspace/git_code/modKI17/Draco/MCgenerator.py\u001b[0m in \u001b[0;36mgenerate\u001b[0;34m(self, num_iter, with_message)\u001b[0m\n\u001b[1;32m    105\u001b[0m         \u001b[0;32mif\u001b[0m \u001b[0mwith_message\u001b[0m\u001b[0;34m:\u001b[0m\u001b[0;34m\u001b[0m\u001b[0m\n\u001b[1;32m    106\u001b[0m             \u001b[0mprint\u001b[0m\u001b[0;34m(\u001b[0m\u001b[0mmes\u001b[0m\u001b[0;34m)\u001b[0m\u001b[0;34m\u001b[0m\u001b[0m\n\u001b[0;32m--> 107\u001b[0;31m         \u001b[0mresults\u001b[0m \u001b[0;34m=\u001b[0m \u001b[0;34m[\u001b[0m\u001b[0mres\u001b[0m \u001b[0;32mfor\u001b[0m \u001b[0mres\u001b[0m \u001b[0;32min\u001b[0m \u001b[0mgen\u001b[0m\u001b[0;34m]\u001b[0m\u001b[0;34m\u001b[0m\u001b[0m\n\u001b[0m\u001b[1;32m    108\u001b[0m         \u001b[0;31m#for i in range(num_iter-1):\u001b[0m\u001b[0;34m\u001b[0m\u001b[0;34m\u001b[0m\u001b[0m\n\u001b[1;32m    109\u001b[0m         \u001b[0;31m#    results[0] = metropolis(\u001b[0m\u001b[0;34m\u001b[0m\u001b[0;34m\u001b[0m\u001b[0m\n",
      "\u001b[0;32m~/workspace/git_code/modKI17/Draco/MCgenerator.py\u001b[0m in \u001b[0;36m<listcomp>\u001b[0;34m(.0)\u001b[0m\n\u001b[1;32m    105\u001b[0m         \u001b[0;32mif\u001b[0m \u001b[0mwith_message\u001b[0m\u001b[0;34m:\u001b[0m\u001b[0;34m\u001b[0m\u001b[0m\n\u001b[1;32m    106\u001b[0m             \u001b[0mprint\u001b[0m\u001b[0;34m(\u001b[0m\u001b[0mmes\u001b[0m\u001b[0;34m)\u001b[0m\u001b[0;34m\u001b[0m\u001b[0m\n\u001b[0;32m--> 107\u001b[0;31m         \u001b[0mresults\u001b[0m \u001b[0;34m=\u001b[0m \u001b[0;34m[\u001b[0m\u001b[0mres\u001b[0m \u001b[0;32mfor\u001b[0m \u001b[0mres\u001b[0m \u001b[0;32min\u001b[0m \u001b[0mgen\u001b[0m\u001b[0;34m]\u001b[0m\u001b[0;34m\u001b[0m\u001b[0m\n\u001b[0m\u001b[1;32m    108\u001b[0m         \u001b[0;31m#for i in range(num_iter-1):\u001b[0m\u001b[0;34m\u001b[0m\u001b[0;34m\u001b[0m\u001b[0m\n\u001b[1;32m    109\u001b[0m         \u001b[0;31m#    results[0] = metropolis(\u001b[0m\u001b[0;34m\u001b[0m\u001b[0;34m\u001b[0m\u001b[0m\n",
      "\u001b[0;32m~/workspace/git_code/modKI17/Draco/MCgenerator.py\u001b[0m in \u001b[0;36mmetropolis_generator\u001b[0;34m(num_iter, logpdf_func, args_logpdf, logpdf_value, dargs_logpdf, push_time)\u001b[0m\n\u001b[1;32m     33\u001b[0m             \u001b[0mmes\u001b[0m \u001b[0;34m+=\u001b[0m \u001b[0;34m\"args_logpdf:\\n\"\u001b[0m \u001b[0;34m+\u001b[0m \u001b[0mstr\u001b[0m\u001b[0;34m(\u001b[0m\u001b[0m_args_logpdf\u001b[0m\u001b[0;34m)\u001b[0m \u001b[0;34m+\u001b[0m \u001b[0;34m'\\n'\u001b[0m\u001b[0;34m\u001b[0m\u001b[0m\n\u001b[1;32m     34\u001b[0m             \u001b[0mmes\u001b[0m \u001b[0;34m+=\u001b[0m \u001b[0;34m\"args_logpdf_candidate:\\n\"\u001b[0m \u001b[0;34m+\u001b[0m \u001b[0mstr\u001b[0m\u001b[0;34m(\u001b[0m\u001b[0margs_logpdf_candidate\u001b[0m\u001b[0;34m)\u001b[0m\u001b[0;34m\u001b[0m\u001b[0m\n\u001b[0;32m---> 35\u001b[0;31m             \u001b[0;32mraise\u001b[0m \u001b[0mTypeError\u001b[0m\u001b[0;34m(\u001b[0m\u001b[0mmes\u001b[0m\u001b[0;34m)\u001b[0m\u001b[0;34m\u001b[0m\u001b[0m\n\u001b[0m\u001b[1;32m     36\u001b[0m \u001b[0;34m\u001b[0m\u001b[0m\n\u001b[1;32m     37\u001b[0m         \u001b[0;32mif\u001b[0m \u001b[0mnp\u001b[0m\u001b[0;34m.\u001b[0m\u001b[0mrandom\u001b[0m\u001b[0;34m.\u001b[0m\u001b[0mrand\u001b[0m\u001b[0;34m(\u001b[0m\u001b[0;34m)\u001b[0m \u001b[0;34m<\u001b[0m \u001b[0macceptance_rate\u001b[0m\u001b[0;34m:\u001b[0m \u001b[0;31m# accepted\u001b[0m\u001b[0;34m\u001b[0m\u001b[0m\n",
      "\u001b[0;31mTypeError\u001b[0m: NaN in acceptance rate calculation at 0th calculation \n-inf -> -inf\nargs_logpdf:\nre      180.0\nn         4.0\nodds      6.5\ndra0      0.0\ndde0      0.0\nName: 0, dtype: float64\nargs_logpdf_candidate:\nre      178.867716\nn         4.132387\nodds      6.531827\ndra0      0.013573\ndde0     -0.004904\ndtype: float64"
     ]
    }
   ],
   "source": [
    "Nstep_init = 5000\n",
    "gen.generate(Nstep_init)"
   ]
  },
  {
   "cell_type": "code",
   "execution_count": null,
   "metadata": {},
   "outputs": [],
   "source": [
    "gen.to_DataFrame().plot(subplots=True)"
   ]
  },
  {
   "cell_type": "code",
   "execution_count": null,
   "metadata": {},
   "outputs": [],
   "source": [
    "gen.generate_tuned((5000,5000,5000))"
   ]
  },
  {
   "cell_type": "code",
   "execution_count": null,
   "metadata": {},
   "outputs": [],
   "source": [
    "gen.to_DataFrame()[:].plot(subplots=True)"
   ]
  },
  {
   "cell_type": "code",
   "execution_count": null,
   "metadata": {
    "scrolled": false
   },
   "outputs": [],
   "source": [
    "gen.options[\"push_time\"] = 30\n",
    "gen.generate(200000)"
   ]
  },
  {
   "cell_type": "markdown",
   "metadata": {},
   "source": [
    "## results"
   ]
  },
  {
   "cell_type": "code",
   "execution_count": null,
   "metadata": {
    "scrolled": true
   },
   "outputs": [],
   "source": [
    "result_df = gen.to_DataFrame()\n",
    "resultlog_df = gen.to_DataFrame(output_log=True)\n",
    "resultlog_df"
   ]
  },
  {
   "cell_type": "markdown",
   "metadata": {},
   "source": [
    "if you already done the calculation, load the result below."
   ]
  },
  {
   "cell_type": "code",
   "execution_count": null,
   "metadata": {},
   "outputs": [],
   "source": [
    "#result_df = pd.read_csv(\"MCMCresult/MCMC_refR-re-w-center_v001.csv\")\n",
    "#resultlog_df = pd.read_csv(\"MCMCresult/MCMClog_refR-re-w-center_v001.csv\")"
   ]
  },
  {
   "cell_type": "code",
   "execution_count": null,
   "metadata": {},
   "outputs": [],
   "source": [
    "ploted_stepset = 1\n",
    "last_MCMC_steps = np.sum(resultlog_df.iter_num.values[-ploted_stepset:])\n",
    "print(\"print last {} steps\".format(last_MCMC_steps))\n",
    "#result_df[\"re[deg]\"] = np.rad2deg(result_df.re/draco_prop.DIST)\n",
    "result_df[-last_MCMC_steps:].hist(bins=64,figsize=(12,6))"
   ]
  },
  {
   "cell_type": "code",
   "execution_count": null,
   "metadata": {
    "scrolled": true
   },
   "outputs": [],
   "source": [
    "mypairplot(result_df[-last_MCMC_steps::50])\n",
    "#mypairplot(result_df[-lastMCMCsteps])"
   ]
  },
  {
   "cell_type": "code",
   "execution_count": null,
   "metadata": {
    "scrolled": true
   },
   "outputs": [],
   "source": [
    "stats = result_df[-last_MCMC_steps:].describe(percentiles=(0.16,0.5,0.84))\n",
    "stats"
   ]
  },
  {
   "cell_type": "code",
   "execution_count": null,
   "metadata": {},
   "outputs": [],
   "source": [
    "plots_likelis = pd.DataFrame()\n",
    "#plots_likelis[\"R\"] = Rs # ideally loglikeli.R but approzimately here we use Rs\n",
    "plots_likelis[\"R\"] = loglikeli.Rs(dra0=stats.dra0.loc[\"50%\"],dde0=stats.dde0.loc[\"50%\"])\n",
    "plots_likelis[\"prob\"] = np.exp(np.log(2*np.pi*plots_likelis.R)+loglikeli.loglikelis(**(stats[[\"re\",\"odds\",\"dra0\",\"dde0\"]].loc[\"50%\"])))\n",
    "plots_likelis = plots_likelis.sort_values(by=\"R\")\n",
    "\n",
    "fig,ax = plt.subplots()\n",
    "plots_likelis[::].plot(x=\"R\",y=\"prob\",ax=ax,figsize=(12,6))\n",
    "display(plots_likelis[::].hist(\"R\",bins=32,density=True,alpha=0.3,ax=ax))"
   ]
  },
  {
   "cell_type": "code",
   "execution_count": null,
   "metadata": {},
   "outputs": [],
   "source": [
    "plots_loglikelis = pd.DataFrame()\n",
    "plots_loglikelis[\"R\"] = loglikeli.Rs(dra0=stats.dra0.loc[\"50%\"],dde0=stats.dde0.loc[\"50%\"]) # ideally loglikeli.R but approzimately here we use Rs\n",
    "plots_loglikelis[\"loglikeli\"] = loglikeli.loglikelis(**(stats[[\"re\",\"odds\",\"dra0\",\"dde0\"]].loc[\"50%\"]))\n",
    "plots_loglikelis = plots_loglikelis.sort_values(by=\"R\")\n",
    "\n",
    "fig,ax = plt.subplots()\n",
    "plots_loglikelis[::].plot(x=\"R\",y=\"loglikeli\",ax=ax,figsize=(12,6))"
   ]
  },
  {
   "cell_type": "markdown",
   "metadata": {},
   "source": [
    "## export"
   ]
  },
  {
   "cell_type": "code",
   "execution_count": null,
   "metadata": {},
   "outputs": [],
   "source": [
    "fname = FNAME_BASE\n",
    "specify_name = SPECIFY_NAME\n",
    "version = VERSION\n",
    "result_df.to_csv(fname.format(\"\",specify_name,version),index=None)\n",
    "resultlog_df.to_csv(fname.format(\"log\",specify_name,version),index=None)"
   ]
  },
  {
   "cell_type": "markdown",
   "metadata": {},
   "source": [
    "# WBIC calculation"
   ]
  },
  {
   "cell_type": "code",
   "execution_count": null,
   "metadata": {
    "code_folding": [
     0
    ]
   },
   "outputs": [],
   "source": [
    "#update likelihood\n",
    "class KI17_loglikelihood_mod:\n",
    "    def __init__(self,dRAs,dDEs,beta=1):\n",
    "        self.dRAs = dRAs\n",
    "        self.dDEs = dDEs\n",
    "        self.RoI_R = np.max(self.Rs(0,0)) # use Rs.max as the RoI\n",
    "        self.beta = beta\n",
    "        print(Rs.describe())\n",
    "        print(\"beta: {}\".format(self.beta)) if beta != 1 else None\n",
    "        self.mem = dSph_model.plummer_model(re_pc=100)\n",
    "        self.fg = dSph_model.uniform2d_model(Rmax_pc=self.RoI_R)\n",
    "\n",
    "    def Rs(self,dra0,dde0):\n",
    "        return coord.projected_distance(\n",
    "            dist=DIST,\n",
    "            ra_center = RA0+dra0,\n",
    "            de_center = DE0+dde0,\n",
    "            ra = RA0+self.dRAs,\n",
    "            de = DE0+self.dDEs,\n",
    "            dtype=\"deg\")\n",
    "        \n",
    "    def __call__(self,re,odds,dra0,dde0):\n",
    "        if re<0 or odds<0:\n",
    "            return -np.inf\n",
    "        else:\n",
    "            return np.sum(self.loglikelis(re,odds,dra0,dde0))\n",
    "    def loglikelis(self,re,odds,dra0,dde0):\n",
    "        if re<0 or odds<0:\n",
    "            return -np.inf\n",
    "        else:\n",
    "            mem,fg = self.mem,self.fg\n",
    "            mem.update({\"re_pc\":re})\n",
    "            ref_R = re\n",
    "            \n",
    "            C1 = 1/mem.cdf_R(self.RoI_R)\n",
    "            C0 = fg.density_2d(self.RoI_R) # fg.density_2d returns constant for arbitrary input\n",
    "            #s = C0/(sigmafg*mem.density_2d(self.Rs)*C1 + C0)\n",
    "            #s = C0/(sigmafg*mem.density_2d(self.Rs)*C1)\n",
    "            s = 1/(1+ 1/odds * mem.density_2d(ref_R)/mem.mean_density_2d(self.RoI_R))\n",
    "            \n",
    "            arg_proj_dist_deg = {\n",
    "                \"ra\":self.dRAs+RA0,\"de\":self.dDEs+DE0,\n",
    "                \"ra_center\":RA0+dra0,\"de_center\":DE0+dde0\n",
    "            }\n",
    "            Rs = coord.projected_distance(dist=DIST,**arg_proj_dist_deg,dtype=\"deg\")\n",
    "            ret = np.log(s*C1*mem.density_2d(Rs)+(1-s)*C0)\n",
    "\n",
    "            return self.beta * ret\n"
   ]
  },
  {
   "cell_type": "code",
   "execution_count": null,
   "metadata": {},
   "outputs": [],
   "source": [
    "loglikeli_wbic = KI17_loglikelihood_mod(dRAs=df_deg.x,dDEs=df_deg.y,beta=1/np.log(len(df_deg)))"
   ]
  },
  {
   "cell_type": "code",
   "execution_count": null,
   "metadata": {},
   "outputs": [],
   "source": [
    "gen_wbic = MCgenerator.MCgenerator(\n",
    "    args_logpdf_init={\"re\":180,\"odds\":6.5,\"dra0\":0.0,\"dde0\":0.0},\n",
    "    dargs_logpdf={\"re\":5.0,\"odds\":0.5,\"dra0\":0.01,\"dde0\":0.01},\n",
    "    logpdf_func=loglikeli_wbic\n",
    ")"
   ]
  },
  {
   "cell_type": "code",
   "execution_count": null,
   "metadata": {},
   "outputs": [],
   "source": [
    "gen_wbic.generate(5000)"
   ]
  },
  {
   "cell_type": "code",
   "execution_count": null,
   "metadata": {},
   "outputs": [],
   "source": [
    "gen_wbic.to_DataFrame().plot(subplots=True)"
   ]
  },
  {
   "cell_type": "code",
   "execution_count": null,
   "metadata": {},
   "outputs": [],
   "source": [
    "gen_wbic.generate_tuned((5000,5000,5000))"
   ]
  },
  {
   "cell_type": "code",
   "execution_count": null,
   "metadata": {},
   "outputs": [],
   "source": [
    "gen_wbic.to_DataFrame().plot(subplots=True)"
   ]
  },
  {
   "cell_type": "code",
   "execution_count": null,
   "metadata": {},
   "outputs": [],
   "source": [
    "gen_wbic.generate(100000)"
   ]
  },
  {
   "cell_type": "code",
   "execution_count": null,
   "metadata": {},
   "outputs": [],
   "source": [
    "df_wbic = gen_wbic.to_DataFrame()[-100000:]\n",
    "df_wbiclog = gen_wbic.to_DataFrame(output_log=True)\n",
    "mypairplot(df_wbic[::20])"
   ]
  },
  {
   "cell_type": "code",
   "execution_count": null,
   "metadata": {},
   "outputs": [],
   "source": [
    "wbic = -df_wbic.logpdf.mean()/loglikeli_wbic.beta\n",
    "bic = -gen.to_DataFrame()[-100000:].logpdf.max() + 4/loglikeli_wbic.beta /2\n",
    "print(\" BIC:{}\\nWBIC:{}\".format(bic,wbic))"
   ]
  },
  {
   "cell_type": "code",
   "execution_count": null,
   "metadata": {},
   "outputs": [],
   "source": [
    "fname = FNAME_BASE\n",
    "specify_name = SPECIFY_NAME+\"_wbic\"\n",
    "version = VERSION\n",
    "df_wbic.to_csv(fname.format(\"\",specify_name,version),index=None)\n",
    "resultlog_df.to_csv(fname.format(\"log\",specify_name,version),index=None)"
   ]
  },
  {
   "cell_type": "code",
   "execution_count": null,
   "metadata": {},
   "outputs": [],
   "source": []
  }
 ],
 "metadata": {
  "kernelspec": {
   "display_name": "Python 3",
   "language": "python",
   "name": "python3"
  },
  "language_info": {
   "codemirror_mode": {
    "name": "ipython",
    "version": 3
   },
   "file_extension": ".py",
   "mimetype": "text/x-python",
   "name": "python",
   "nbconvert_exporter": "python",
   "pygments_lexer": "ipython3",
   "version": "3.6.5"
  },
  "toc": {
   "base_numbering": 1,
   "nav_menu": {},
   "number_sections": true,
   "sideBar": true,
   "skip_h1_title": false,
   "title_cell": "Table of Contents",
   "title_sidebar": "Contents",
   "toc_cell": false,
   "toc_position": {
    "height": "calc(100% - 180px)",
    "left": "10px",
    "top": "150px",
    "width": "248px"
   },
   "toc_section_display": true,
   "toc_window_display": true
  }
 },
 "nbformat": 4,
 "nbformat_minor": 2
}
