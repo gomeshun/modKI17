{
 "cells": [
  {
   "cell_type": "code",
   "execution_count": 1,
   "metadata": {},
   "outputs": [],
   "source": [
    "from sympy import *\n",
    "init_printing()"
   ]
  },
  {
   "cell_type": "code",
   "execution_count": 15,
   "metadata": {},
   "outputs": [],
   "source": [
    "r,rprime,rpprime = symbols(\"r r' r''\",positive=True)\n",
    "R,Rprime,Rpprime = symbols(\"R R' R''\",positive=True)\n",
    "re,rh = symbols(\"r_e r_h\",positive=True)\n",
    "\n",
    "k,l,m,n = symbols(\"k l m n\",real=True,positive=True)"
   ]
  },
  {
   "cell_type": "markdown",
   "metadata": {},
   "source": [
    "## functions"
   ]
  },
  {
   "cell_type": "code",
   "execution_count": 3,
   "metadata": {},
   "outputs": [],
   "source": [
    "def cdf3d(func3d,rmax):\n",
    "    return integrate(4*pi*r**2*func3d,(r,0,rmax))\n",
    "def cdf2d(func2d,Rmax):\n",
    "    return integrate(2*pi*R*func2d,(R,0,Rmax))\n",
    "\n",
    "def Abeltrans(func3d,Rnew=R,simplify_func=lambda x:x):\n",
    "    return integrate(simplify(2*r/sqrt(r**2-Rnew**2)*func3d),(r,Rnew,oo))\n",
    "def invAbeltrans(func2d,rnew=r,simplify_func=lambda x:x):\n",
    "    return -1/pi*integrate(simplify((1/sqrt(R**2-rnew**2)*diff(func2d,R))),(R,rnew,oo))"
   ]
  },
  {
   "cell_type": "markdown",
   "metadata": {},
   "source": [
    "# list of stellar model"
   ]
  },
  {
   "cell_type": "code",
   "execution_count": 4,
   "metadata": {},
   "outputs": [
    {
     "data": {
      "image/png": "[encoded data removed]",
      "text/latex": [
       "$$\\left ( \\frac{3}{4 \\pi r_{e}^{3} \\left(\\frac{r^{2}}{r_{e}^{2}} + 1\\right)^{\\frac{5}{2}}}, \\quad \\frac{1}{\\pi r_{e}^{2} \\left(\\frac{R^{2}}{r_{e}^{2}} + 1\\right)^{2}}\\right )$$"
      ],
      "text/plain": [
       "⎛         3                   1        ⎞\n",
       "⎜────────────────────, ────────────────⎟\n",
       "⎜                 5/2                 2⎟\n",
       "⎜        ⎛  2    ⎞           ⎛  2    ⎞ ⎟\n",
       "⎜      3 ⎜ r     ⎟         2 ⎜ R     ⎟ ⎟\n",
       "⎜4⋅π⋅rₑ ⋅⎜─── + 1⎟     π⋅rₑ ⋅⎜─── + 1⎟ ⎟\n",
       "⎜        ⎜  2    ⎟           ⎜  2    ⎟ ⎟\n",
       "⎝        ⎝rₑ     ⎠           ⎝rₑ     ⎠ ⎠"
      ]
     },
     "execution_count": 4,
     "metadata": {},
     "output_type": "execute_result"
    }
   ],
   "source": [
    "plummer3d =Rational(3,4)/pi/re**3 * (1+(r/re)**2)**-Rational(5,2)\n",
    "plummer2d = Abeltrans(plummer3d,R)\n",
    "plummer3d,plummer2d\n"
   ]
  },
  {
   "cell_type": "code",
   "execution_count": 5,
   "metadata": {},
   "outputs": [
    {
     "data": {
      "image/png": "[encoded data removed]",
      "text/latex": [
       "$$\\left ( \\frac{e^{- \\frac{r}{r_{e}}}}{8 \\pi r_{e}^{3}}, \\quad \\frac{R K_{1}\\left(\\frac{R}{r_{e}}\\right)}{4 \\pi r_{e}^{3}}\\right )$$"
      ],
      "text/plain": [
       "⎛   -r                    ⎞\n",
       "⎜   ───            ⎛   R ⎞⎟\n",
       "⎜    rₑ   R⋅besselk⎜1, ──⎟⎟\n",
       "⎜  ℯ               ⎝   rₑ⎠⎟\n",
       "⎜───────, ────────────────⎟\n",
       "⎜      3            3     ⎟\n",
       "⎝8⋅π⋅rₑ       4⋅π⋅rₑ      ⎠"
      ]
     },
     "execution_count": 5,
     "metadata": {},
     "output_type": "execute_result"
    }
   ],
   "source": [
    "exp3d3d = Rational(1,8)/pi/re**3*exp(-r/re)\n",
    "exp3d2d = Rational(1,4)/pi/re**2*(R/re)*besselk(1,R/re)\n",
    "exp3d3d,exp3d2d"
   ]
  },
  {
   "cell_type": "code",
   "execution_count": 6,
   "metadata": {},
   "outputs": [
    {
     "data": {
      "image/png": "[encoded data removed]",
      "text/latex": [
       "$$\\left ( \\frac{K_{0}\\left(\\frac{r}{r_{e}}\\right)}{2 \\pi^{2} r_{e}^{3}}, \\quad \\frac{e^{- \\frac{R}{r_{e}}}}{2 \\pi r_{e}^{2}}\\right )$$"
      ],
      "text/plain": [
       "⎛                   -R  ⎞\n",
       "⎜       ⎛   r ⎞     ─── ⎟\n",
       "⎜besselk⎜0, ──⎟      rₑ ⎟\n",
       "⎜       ⎝   rₑ⎠    ℯ    ⎟\n",
       "⎜──────────────, ───────⎟\n",
       "⎜      2   3           2⎟\n",
       "⎝   2⋅π ⋅rₑ      2⋅π⋅rₑ ⎠"
      ]
     },
     "execution_count": 6,
     "metadata": {},
     "output_type": "execute_result"
    }
   ],
   "source": [
    "exp2d3d = Rational(1,2)/pi**2/re**3*besselk(0,r/re)\n",
    "exp2d2d = Rational(1,2)/pi/re**2*exp(-R/re)\n",
    "exp2d3d,exp2d2d"
   ]
  },
  {
   "cell_type": "code",
   "execution_count": 7,
   "metadata": {},
   "outputs": [
    {
     "data": {
      "text/latex": [
       "$$\\left ( \\frac{r_{e}}{2 \\pi r \\left(r + r_{e}\\right)^{3}}, \\quad \\begin{cases} - \\frac{r_{e}}{2 \\pi \\left(R^{6} - 3 R^{4} r_{e}^{2} + 3 R^{2} r_{e}^{4} - r_{e}^{6}\\right)} \\left(3 R^{2} r_{e} + R^{2} \\sqrt{- R^{2} + r_{e}^{2}} \\operatorname{acosh}{\\left (\\frac{r_{e}}{R} \\right )} - 3 r_{e}^{3} + 2 r_{e}^{2} \\sqrt{- R^{2} + r_{e}^{2}} \\operatorname{acosh}{\\left (\\frac{r_{e}}{R} \\right )}\\right) & \\text{for}\\: \\frac{r_{e}^{2}}{R^{2}} > 1 \\\\- \\frac{r_{e}}{4 \\pi \\left(R^{6} - 3 R^{4} r_{e}^{2} + 3 R^{2} r_{e}^{4} - r_{e}^{6}\\right)} \\left(6 R^{2} r_{e} + 2 R^{2} \\sqrt{R^{2} - r_{e}^{2}} \\operatorname{asin}{\\left (\\frac{r_{e}}{R} \\right )} - \\pi R^{2} \\sqrt{R^{2} - r_{e}^{2}} - 6 r_{e}^{3} + 4 r_{e}^{2} \\sqrt{R^{2} - r_{e}^{2}} \\operatorname{asin}{\\left (\\frac{r_{e}}{R} \\right )} - 2 \\pi r_{e}^{2} \\sqrt{R^{2} - r_{e}^{2}}\\right) & \\text{otherwise} \\end{cases}\\right )$$"
      ],
      "text/plain": [
       "⎛                 ⎧                        ⎛                ____________      \n",
       "⎜                 ⎪                        ⎜   2       2   ╱    2     2       \n",
       "⎜                 ⎪                    -rₑ⋅⎜3⋅R ⋅rₑ + R ⋅╲╱  - R  + rₑ  ⋅acosh\n",
       "⎜                 ⎪                        ⎝                                  \n",
       "⎜                 ⎪                    ───────────────────────────────────────\n",
       "⎜                 ⎪                                                  ⎛ 6      \n",
       "⎜       rₑ        ⎪                                              2⋅π⋅⎝R  - 3⋅R\n",
       "⎜───────────────, ⎨                                                           \n",
       "⎜              3  ⎪    ⎛                  __________                    ______\n",
       "⎜2⋅π⋅r⋅(r + rₑ)   ⎪    ⎜   2         2   ╱  2     2      ⎛rₑ⎞      2   ╱  2   \n",
       "⎜                 ⎪-rₑ⋅⎜6⋅R ⋅rₑ + 2⋅R ⋅╲╱  R  - rₑ  ⋅asin⎜──⎟ - π⋅R ⋅╲╱  R  - \n",
       "⎜                 ⎪    ⎝                                 ⎝R ⎠                 \n",
       "⎜                 ⎪───────────────────────────────────────────────────────────\n",
       "⎜                 ⎪                                                  ⎛ 6      \n",
       "⎝                 ⎩                                              4⋅π⋅⎝R  - 3⋅R\n",
       "\n",
       "                        ____________          ⎞                               \n",
       "⎛rₑ⎞       3       2   ╱    2     2       ⎛rₑ⎞⎟                               \n",
       "⎜──⎟ - 3⋅rₑ  + 2⋅rₑ ⋅╲╱  - R  + rₑ  ⋅acosh⎜──⎟⎟                              2\n",
       "⎝R ⎠                                      ⎝R ⎠⎠                            rₑ \n",
       "────────────────────────────────────────────────                       for ───\n",
       "4   2      2   4     6⎞                                                      2\n",
       " ⋅rₑ  + 3⋅R ⋅rₑ  - rₑ ⎠                                                     R \n",
       "                                                                              \n",
       "____                    __________                       __________⎞          \n",
       "  2        3       2   ╱  2     2      ⎛rₑ⎞         2   ╱  2     2 ⎟          \n",
       "rₑ   - 6⋅rₑ  + 4⋅rₑ ⋅╲╱  R  - rₑ  ⋅asin⎜──⎟ - 2⋅π⋅rₑ ⋅╲╱  R  - rₑ  ⎟          \n",
       "                                       ⎝R ⎠                        ⎠          \n",
       "─────────────────────────────────────────────────────────────────────   otherw\n",
       "4   2      2   4     6⎞                                                       \n",
       " ⋅rₑ  + 3⋅R ⋅rₑ  - rₑ ⎠                                                       \n",
       "\n",
       "    ⎞\n",
       "    ⎟\n",
       "    ⎟\n",
       "    ⎟\n",
       " > 1⎟\n",
       "    ⎟\n",
       "    ⎟\n",
       "    ⎟\n",
       "    ⎟\n",
       "    ⎟\n",
       "    ⎟\n",
       "    ⎟\n",
       "ise ⎟\n",
       "    ⎟\n",
       "    ⎠"
      ]
     },
     "execution_count": 7,
     "metadata": {},
     "output_type": "execute_result"
    }
   ],
   "source": [
    "hernquist3d = re/2/pi/r/(r+re)**3\n",
    "hernquist2d = (simplify(factor(simplify(Abeltrans(hernquist3d)))))\n",
    "(hernquist3d,hernquist2d)"
   ]
  },
  {
   "cell_type": "code",
   "execution_count": 20,
   "metadata": {
    "scrolled": true
   },
   "outputs": [
    {
     "data": {
      "image/png": "[encoded data removed]",
      "text/latex": [
       "$$e^{- b_{n} \\left(\\frac{R}{r_{e}}\\right)^{\\frac{1}{n}}}$$"
      ],
      "text/plain": [
       "         ____\n",
       "        ╱ R  \n",
       " -bₙ⋅n ╱  ── \n",
       "     ╲╱   rₑ \n",
       "ℯ            "
      ]
     },
     "metadata": {},
     "output_type": "display_data"
    },
    {
     "data": {
      "image/png": "[encoded data removed]",
      "text/latex": [
       "$$\\pi b_{n}^{- 2 n} r_{e}^{2} \\Gamma{\\left(2 n + 1 \\right)}$$"
      ],
      "text/plain": [
       "    -2⋅n   2           \n",
       "π⋅bₙ    ⋅rₑ ⋅Γ(2⋅n + 1)"
      ]
     },
     "metadata": {},
     "output_type": "display_data"
    },
    {
     "data": {
      "image/png": "[encoded data removed]",
      "text/latex": [
       "$$- 2 \\pi b_{n}^{- 2 n} n r_{e}^{2} \\left(\\gamma\\left(2 n, 0\\right) - \\gamma\\left(2 n, R^{\\frac{1}{n}} b_{n} r_{e}^{- \\frac{1}{n}}\\right)\\right)$$"
      ],
      "text/plain": [
       "                  ⎛             ⎛                -1 ⎞⎞\n",
       "                  ⎜             ⎜                ───⎟⎟\n",
       "       -2⋅n     2 ⎜             ⎜     n ___       n ⎟⎟\n",
       "-2⋅π⋅bₙ    ⋅n⋅rₑ ⋅⎝γ(2⋅n, 0) - γ⎝2⋅n, ╲╱ R ⋅bₙ⋅rₑ   ⎠⎠"
      ]
     },
     "metadata": {},
     "output_type": "display_data"
    }
   ],
   "source": [
    "bn = Symbol(\"b_n\",positive=True)\n",
    "sersic2d = exp(-bn*((R/re)**(1/n)))\n",
    "display(sersic2d)\n",
    "display(simplify(integrate(2*pi*R*sersic2d,(R,0,oo))))\n",
    "display(simplify(integrate(2*pi*R*sersic2d,(R,0,R))))"
   ]
  },
  {
   "cell_type": "code",
   "execution_count": 9,
   "metadata": {},
   "outputs": [
    {
     "data": {
      "text/plain": [
       "<Figure size 640x480 with 1 Axes>"
      ]
     },
     "metadata": {},
     "output_type": "display_data"
    },
    {
     "data": {
      "text/plain": [
       "<sympy.plotting.plot.Plot at 0x7f4a55785588>"
      ]
     },
     "execution_count": 9,
     "metadata": {},
     "output_type": "execute_result"
    }
   ],
   "source": [
    "a1,a2,a3,a4,a5 = symbols(\"\\alpha_1 \\alpha_2 \\alpha_3 \\alpha_4 \\alpha_5\")\n",
    "g0,g1,g2,g3,g4,g5 = symbols(\"\\gamma_0 \\gamma_1 \\gamma_2 \\gamma_3 \\gamma_4 \\gamma_5\")\n",
    "r1,r2,r3,r4,r5 = symbols(\"r_1 r_2 r_3 r_4 r_5\")\n",
    "myprofile = r**-g0 * (1+(r/r1)**a1 ) ** ((g0-g1)/a1) * (1+(r/r2)**a2 ) ** ((g1-g2)/a2)  * (1+(r/r3)**a3 ) ** ((g2-g3)/a3)\n",
    "re = 200\n",
    "plotfunc1 = myprofile.subs([(g0,0),(g1,4),(g2,4),(g3,4),(a1,2),(a2,2),(a3,2),(r1,0.5*pi*re),(r2,1.5*pi*re),(r3,2.5*pi*re)])\n",
    "plotfunc2 = myprofile.subs([(g0,1),(g1,4),(g2,4),(g3,4),(a1,2),(a2,2),(a3,2),(r1,1*pi*re),(r2,2*pi*re),(r3,3*pi*re)])\n",
    "plot(plotfunc1+plotfunc2,exp(-r/re),(r,0.1,100),xscale=\"log\",yscale=\"log\",legend=True)"
   ]
  },
  {
   "cell_type": "code",
   "execution_count": 11,
   "metadata": {},
   "outputs": [],
   "source": [
    "myprofile = r**-g0 * (1+(r/r1)**a1 ) ** ((g0-g1)/a1)\n",
    "#Abeltrans(myprofile)"
   ]
  },
  {
   "cell_type": "code",
   "execution_count": null,
   "metadata": {},
   "outputs": [],
   "source": []
  }
 ],
 "metadata": {
  "kernelspec": {
   "display_name": "Python 3",
   "language": "python",
   "name": "python3"
  },
  "language_info": {
   "codemirror_mode": {
    "name": "ipython",
    "version": 3
   },
   "file_extension": ".py",
   "mimetype": "text/x-python",
   "name": "python",
   "nbconvert_exporter": "python",
   "pygments_lexer": "ipython3",
   "version": "3.6.5"
  },
  "toc": {
   "base_numbering": 1,
   "nav_menu": {},
   "number_sections": true,
   "sideBar": true,
   "skip_h1_title": false,
   "title_cell": "Table of Contents",
   "title_sidebar": "Contents",
   "toc_cell": false,
   "toc_position": {},
   "toc_section_display": true,
   "toc_window_display": false
  }
 },
 "nbformat": 4,
 "nbformat_minor": 2
}
